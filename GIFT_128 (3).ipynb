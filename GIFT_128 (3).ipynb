{
  "nbformat": 4,
  "nbformat_minor": 0,
  "metadata": {
    "colab": {
      "name": "GIFT-128.ipynb",
      "provenance": []
    },
    "kernelspec": {
      "display_name": "Python 3",
      "name": "python3"
    },
    "language_info": {
      "name": "python"
    }
  },
  "cells": [
    {
      "cell_type": "markdown",
      "metadata": {
        "id": "bZMdpVoNN4LU"
      },
      "source": [
        "##**GIFT-COFB Encryption**##"
      ]
    },
    {
      "cell_type": "code",
      "metadata": {
        "id": "yeVCMhrvYVgW"
      },
      "source": [
        "#sub-cell\n",
        "def subcell(S):\n",
        "  S[1]=bin(int(S[1],2)^(int(S[0],2) & int(S[2],2)))[2:].zfill(32)\n",
        "  S[0]=bin(int(S[0],2)^(int(S[1],2) & int(S[3],2)))[2:].zfill(32)\n",
        "  S[2]=bin(int(S[2],2)^(int(S[0],2) | int(S[1],2)))[2:].zfill(32)\n",
        "  S[3]=bin(int(S[3],2)^int(S[2],2))[2:].zfill(32)\n",
        "  S[1]=bin(int(S[1],2) ^ int(S[3],2))[2:].zfill(32)\n",
        "  S[3] = bin(int(S[3],2) ^ 0xFFFFFFFF)[2:].zfill(32)\n",
        "  S[2]=bin(int(S[2],2) ^(int(S[0],2) & int(S[1],2)))[2:].zfill(32)\n",
        "  S[0]=S[3]\n",
        "  S[1]=S[1]\n",
        "  S[2]=S[2]\n",
        "  S[3]=S[0]\n",
        "  return S\n",
        "\n",
        "#perm-bits\n",
        "def permbits(S):\n",
        "  b0=[int(t) for t in S[0][::-1]]\n",
        "  b1=[int(t) for t in S[1][::-1]]\n",
        "  b2=[int(t) for t in S[2][::-1]]\n",
        "  b3=[int(t) for t in S[3][::-1]]\n",
        "  b=[]\n",
        "  b.append(b0)\n",
        "  b.append(b1)\n",
        "  b.append(b2)\n",
        "  b.append(b3)\n",
        "  #print(b1)\n",
        "  SP=[]\n",
        "  for i in range(0,4):\n",
        "    sp = [0 for _ in range(32)]\n",
        "    for p_index, std_bits in enumerate(b[i]):\n",
        "        sp[p[i][p_index]] = std_bits\n",
        "    spp=[str(o) for o in sp[::-1]]\n",
        "    spp=\"\".join(spp)\n",
        "    SP.append(spp)\n",
        "  #print(SP)'''\n",
        "  return SP\n",
        "\n",
        "#addRoundKey\n",
        "def addRoundKey(S,KS,i):\n",
        "  #print(int(const[7],2))\n",
        "  U=KS[6]+KS[7]\n",
        "  V=KS[2]+KS[3]\n",
        "  constt='000000'\n",
        "  for z in range(0,i):\n",
        "    c_bit=[int(i) for i in str(constt)]\n",
        "    #print(c_bit)\n",
        "    t=c_bit[0]\n",
        "    c_bit[0]=c_bit[1]\n",
        "    c_bit[1]=c_bit[2]\n",
        "    c_bit[2]=c_bit[3]\n",
        "    c_bit[3]=c_bit[4]\n",
        "    c_bit[4]=c_bit[5]\n",
        "    c_bit[5]=(t^c_bit[0])^1\n",
        "    C=[str(o) for o in c_bit]\n",
        "    constt=\"\".join(C)\n",
        "        \n",
        "  c='10000000000000000000000000'+constt\n",
        "  #print(int(U,2))\n",
        "  #print(V) \n",
        "  S[1]=bin(int(S[1],2)^int(U,2))[2:].zfill(32)\n",
        "  S[2]=bin(int(S[2],2)^int(V,2))[2:].zfill(32)\n",
        "  S[3]=bin(int(S[3],2)^int(c,2))[2:].zfill(32)\n",
        "  return S\n",
        "  \n",
        "\n",
        "#Key_update\n",
        "def keyUpdate(KS):\n",
        "  t1=KS[0]\n",
        "  t2=KS[1]\n",
        "  KS[0]=bin(int(KS[6],2)>>2)[2:].zfill(16)\n",
        "  KS[1]=bin(int(KS[7],2)>>12)[2:].zfill(16)\n",
        "  KS[7]=KS[5]\n",
        "  KS[6]=KS[4]\n",
        "  KS[5]=KS[3]\n",
        "  KS[4]=KS[2]\n",
        "  KS[3]=t2\n",
        "  KS[2]=t1\n",
        "  return KS\n",
        "  #print(KS)\n"
      ],
      "execution_count": 1,
      "outputs": []
    },
    {
      "cell_type": "code",
      "metadata": {
        "id": "0m1iqjr5ttPA"
      },
      "source": [
        "p0=[0,24,16,8,1,25,17,9,2,26,18,10,3,27,19,11,4,28,20,12,5,29,21,13,6,30,22,14,7,31,23,15]\n",
        "p1=[8,0,24,16,9,1,25,17,10,2,26,18,11,3,27,19,12,4,28,20,13,5,29,21,14,6,30,22,15,7,31,23]\n",
        "p2=[16,8,0,24,17,9,1,25,18,10,2,26,19,11,3,27,20,12,4,28,21,13,5,29,22,14,6,30,23,15,7,31]\n",
        "p3=[24,16,8,0,25,17,9,1,26,18,10,2,27,19,11,3,28,20,12,4,29,21,13,5,30,22,14,6,31,23,15,7]\n",
        "p=[]\n",
        "p.append(p0)\n",
        "p.append(p1)\n",
        "p.append(p2)\n",
        "p.append(p3)\n",
        "\n",
        "#const=['000001','000011','000111','001111','011111','111110','111101','111011','110111','101111','011110','111100','111001','110011','100111','001110','011101','111010','110101','101011','010110','101100','011000','110000','100001','000010','000101','001011','010111','101110','011100','111000','110001','100011','000110','001101','011011','110110','101101','011010','110100','101001','010010','100100','001000','010001','100010','000100']\n",
        "def encrypt(state,s_key):\n",
        "  #print(f\"Plain Text: {state} ; Key: {s_key}\")\n",
        "  \n",
        "  #print(state)\n",
        "  #initialize s0,s1,s2,s3\n",
        "  bits=[int(t) for t in str(state)[::-1]]\n",
        "  key=[int(t) for t in str(s_key)[::-1]]\n",
        "  s0=[]\n",
        "  s1=[]\n",
        "  s2=[]\n",
        "  s3=[]\n",
        "  for i in range(0,128,4):\n",
        "    #print(bits[i])\n",
        "    s0.append(bits[i])\n",
        "    s1.append(bits[i+1])\n",
        "    s2.append(bits[i+2])\n",
        "    s3.append(bits[i+3])\n",
        "  jn1=[str(i) for i in s0[::-1]]\n",
        "  jn2=[str(i) for i in s1[::-1]]\n",
        "  jn3=[str(i) for i in s2[::-1]]\n",
        "  jn4=[str(i) for i in s3[::-1]]\n",
        "  S0=\"\".join(jn1)\n",
        "  S1=\"\".join(jn2)\n",
        "  S2=\"\".join(jn3)\n",
        "  S3=\"\".join(jn4)\n",
        "  S=[]\n",
        "  S.append(S0)\n",
        "  S.append(S1)\n",
        "  S.append(S2)\n",
        "  S.append(S3)\n",
        "  #print(S)\n",
        "  #initialize key\n",
        "  w=[]\n",
        "  #print(w)\n",
        "  W=[]\n",
        "  for i in range(0,128):\n",
        "    if (i % 16==0 and i>15):\n",
        "      #print(\"k\")\n",
        "      w.append(W)\n",
        "      W=[]\n",
        "    W.append(key[i])\n",
        "  w.append(W)\n",
        "  w=w[::-1]\n",
        "  #print(w)\n",
        "  KS=[]\n",
        "  for j in range(0,8):\n",
        "    k=[str(i) for i in w[j][::-1]]\n",
        "    t=\"\".join(k)  \n",
        "    KS.append(t)\n",
        "  #print(KS)\n",
        "  for i in range(0,4):\n",
        "    S=subcell(S)\n",
        "    S=permbits(S)\n",
        "    S=addRoundKey(S,KS,i)\n",
        "    KS=keyUpdate(KS)\n",
        "  #print(S)\n",
        "  S[0]=S[0][::-1]\n",
        "  S[1]=S[1][::-1]\n",
        "  S[2]=S[2][::-1]\n",
        "  S[3]=S[3][::-1]\n",
        "  #print(S)\n",
        "  g=[]\n",
        "  for m in range(0,32):\n",
        "    for l in range(0,4):\n",
        "      g.append(S[l][m])\n",
        "   # print(g)\n",
        "  #print(g)    \n",
        "  final=\"\".join(g)\n",
        "  #print(final)\n",
        "  return int(final,2)\n",
        "\n",
        "#encrypt(12800000000000000,164444444444444444)  \n"
      ],
      "execution_count": 28,
      "outputs": []
    },
    {
      "cell_type": "markdown",
      "metadata": {
        "id": "cyFH5x7cOWvn"
      },
      "source": [
        "#**Generating Dataset**#"
      ]
    },
    {
      "cell_type": "markdown",
      "metadata": {
        "id": "tHEf-fkpOdEj"
      },
      "source": [
        "##*Wang's Differential*##"
      ]
    },
    {
      "cell_type": "code",
      "metadata": {
        "colab": {
          "base_uri": "https://localhost:8080/"
        },
        "id": "-3UUYiBFhRRt",
        "outputId": "cf6d41dc-142e-4ac2-f32d-3b61b885800d"
      },
      "source": [
        "import numpy as np\n",
        "import progressbar\n",
        "import random\n",
        "\n",
        "gift_diffs=[\n",
        "                 0x70000000000000000000000000007000,\n",
        "                 0x07000000000000000000000000000700,\n",
        "                 0x00700000000000000000000000000070,\n",
        "                 0x00070000000000000000000000000007,\n",
        "]\n",
        "\n",
        "def gift_dataset(rounds = 32, sample_size = 2**16, diff_class = 2):\n",
        "\n",
        "    encrypted = []\n",
        "    enc_class = []\n",
        "    # list of 't' input differences\n",
        "    # delta = [random.getrandbits(64) for i in range(diff_class)]\n",
        "    delta = [gift_diffs[i] for i in range(diff_class)]\n",
        "    #print(hex(delta[1]))\n",
        "     \n",
        "    # generating cipher differences\n",
        "    for i in progressbar.progressbar(range(sample_size)):\n",
        "\n",
        "        key = bin(random.getrandbits(128))[2:].zfill(128)\n",
        "        plain = bin(random.getrandbits(128))[2:].zfill(128)\n",
        "       \n",
        "        # plain_text = str(eval(plain_opt+'(plain)'))[2:]\n",
        "        cipher_text = encrypt(plain,key)\n",
        "\n",
        "        # for each input difference, create a sample output difference\n",
        "        for j in range(diff_class):\n",
        "            p = bin(int(plain,2)^int(delta[j]))[2:].zfill(128)\n",
        "            #print(p)\n",
        "            c = encrypt(p,key)\n",
        "            # convert the output difference to binary, padd with zeros, create it into a list of 64 bits, append into encrypted\n",
        "            encrypted.append([int(i) for i in bin(c^cipher_text)[2:].zfill(128)])\n",
        "            enc_class.append(j)\n",
        "\n",
        "            \n",
        "    return encrypted, enc_class, delta\n",
        "\n",
        "\n",
        "key_bits = 128\n",
        "rounds = 6\n",
        "mod_plain_bit = 128\n",
        "sample_size = 10000\n",
        "diff_class = 4\n",
        "\n",
        "ciphers, enc_class, delta = gift_dataset(rounds, sample_size, diff_class)"
      ],
      "execution_count": 8,
      "outputs": [
        {
          "output_type": "stream",
          "text": [
            "100% (10000 of 10000) |##################| Elapsed Time: 0:00:21 Time:  0:00:21\n"
          ],
          "name": "stderr"
        }
      ]
    },
    {
      "cell_type": "markdown",
      "metadata": {
        "id": "WJ0u0dyMuk3D"
      },
      "source": [
        "##*Random Differential*##"
      ]
    },
    {
      "cell_type": "code",
      "metadata": {
        "id": "hW34AbDVumxr",
        "colab": {
          "base_uri": "https://localhost:8080/"
        },
        "outputId": "b683db19-b15e-4bd6-be12-a6b03fdaa89e"
      },
      "source": [
        "import numpy as np\n",
        "import progressbar\n",
        "import random\n",
        "random_diffs=[\n",
        "                 0x12340000004444000000000000007777,\n",
        "                 0x37000234500000065436200000009876,\n",
        "                 0x11110022220003333000044440000555,\n",
        "                 0x77770067980000000000003456780007,\n",
        "]\n",
        "\n",
        "def random_dataset(rounds = 32, sample_size = 2**16, diff_class = 2):\n",
        "\n",
        "    encrypted = []\n",
        "    enc_class = []\n",
        "    # list of 't' input differences\n",
        "    # delta = [random.getrandbits(64) for i in range(diff_class)]\n",
        "    delta = [random_diffs[i] for i in range(diff_class)]\n",
        "    #print(hex(delta[1]))\n",
        "     \n",
        "    # generating cipher differences\n",
        "    for i in progressbar.progressbar(range(sample_size)):\n",
        "\n",
        "        key = bin(random.getrandbits(128))[2:].zfill(128)\n",
        "        plain = bin(random.getrandbits(128))[2:].zfill(128)\n",
        "       \n",
        "        # plain_text = str(eval(plain_opt+'(plain)'))[2:]\n",
        "        cipher_text = encrypt(plain,key)\n",
        "\n",
        "        # for each input difference, create a sample output difference\n",
        "        for j in range(diff_class):\n",
        "            p = bin(int(plain,2)^int(delta[j]))[2:].zfill(128)\n",
        "            #print(p)\n",
        "            c = encrypt(p,key)\n",
        "            # convert the output difference to binary, padd with zeros, create it into a list of 64 bits, append into encrypted\n",
        "            encrypted.append([int(i) for i in bin(c^cipher_text)[2:].zfill(128)])\n",
        "            enc_class.append(j)\n",
        "\n",
        "            \n",
        "    return encrypted, enc_class, delta\n",
        "\n",
        "\n",
        "key_bits = 128\n",
        "rounds = 6\n",
        "mod_plain_bit = 128\n",
        "sample_size = 10000\n",
        "diff_class = 4\n",
        "\n",
        "ciphers1, enc_class1, delta1 = random_dataset(rounds, sample_size, diff_class)"
      ],
      "execution_count": 29,
      "outputs": [
        {
          "output_type": "stream",
          "text": [
            "100% (10000 of 10000) |##################| Elapsed Time: 0:00:32 Time:  0:00:32\n"
          ],
          "name": "stderr"
        }
      ]
    },
    {
      "cell_type": "markdown",
      "metadata": {
        "id": "GKsr0DjeOkq6"
      },
      "source": [
        "#**Model 1 --> Wang + Baksi**#"
      ]
    },
    {
      "cell_type": "code",
      "metadata": {
        "colab": {
          "base_uri": "https://localhost:8080/"
        },
        "id": "CFpdwPpHn1Mh",
        "outputId": "2a883150-5e23-4ab8-d1f6-810974cd131e"
      },
      "source": [
        "import torch\n",
        "import torch.nn as nn\n",
        "import torch.nn.functional as F\n",
        "import torch.optim as optim\n",
        "\n",
        "if torch.cuda.is_available():\n",
        "    device = torch.device(\"cuda:0\")\n",
        "    print(\"running on GPU\")\n",
        "else :\n",
        "    device = torch.device(\"cpu\")\n",
        "    print(\"running on CPU\")\n",
        "\n",
        "# NN class\n",
        "class Net(nn.Module):\n",
        "    def __init__(self):\n",
        "        super().__init__()\n",
        "        self.l1 = nn.Linear(128,128)\n",
        "        self.l2 = nn.Linear(128,1024)\n",
        "        self.l3 = nn.Linear(1024,1024)\n",
        "\n",
        "        self.f1 = nn.Linear(1024,diff_class)\n",
        "    \n",
        "    def forward(self, x):\n",
        "        x = F.relu(self.l1(x))\n",
        "        x = F.relu(self.l2(x))\n",
        "        x = F.relu(self.l3(x))\n",
        "\n",
        "        x = self.f1(x)\n",
        "        \n",
        "        return F.softmax(x, dim=1)\n",
        "    \n",
        "net = Net().to(device)\n",
        "\n",
        "# NN parameters\n",
        "optimizer = optim.Adam(net.parameters(), lr = 0.001)\n",
        "loss_function = nn.MSELoss()\n",
        "\n",
        "# converting dataset to tensors\n",
        "X = torch.Tensor(ciphers)\n",
        "y = torch.Tensor([np.eye(diff_class)[enc_class[i]] for i in range(len(enc_class))])\n",
        "\n",
        "VAL_PCT = 0.3\n",
        "val_size = int(len(X)*VAL_PCT)\n",
        "# print(val_size)\n",
        "\n",
        "train_X = X[:-val_size]\n",
        "train_y = y[:-val_size]\n",
        "\n",
        "test_X = X[-val_size:]\n",
        "test_y = y[-val_size:]\n",
        "\n",
        "# defining what to do in one iteration of data tensor throught the NN\n",
        "def fwd_pass(X, y, train=False):\n",
        "    if train:\n",
        "        net.zero_grad()\n",
        "    outputs = net(X)\n",
        "    matches = [torch.argmax(i) == torch.argmax(j) for i,j in zip(outputs,y)]\n",
        "    acc = matches.count(True)/len(matches)\n",
        "    loss = loss_function(outputs,y)\n",
        "    \n",
        "    if train:\n",
        "        loss.backward()\n",
        "        optimizer.step()\n",
        "    \n",
        "    return acc, loss\n",
        "\n",
        "\n",
        "MODEL_NAME = f\"GIFT_ML-Differential\"\n",
        "\n",
        "net = Net().to(device)\n",
        "optimizer = optim.Adam(net.parameters(), lr = 0.001)\n",
        "loss_function = nn.MSELoss()\n",
        "\n",
        "print(MODEL_NAME)\n",
        "\n",
        "def test(size=32):\n",
        "    \n",
        "    random_start = np.random.randint(len(test_X)-size)\n",
        "    X, y = test_X[random_start:random_start+size], test_y[random_start:random_start+size]\n",
        "    with torch.no_grad():\n",
        "        val_acc, val_loss = fwd_pass(X.view(-1,128).to(device),y.to(device))\n",
        "    return val_acc, val_loss\n",
        "\n",
        "# defining training method\n",
        "def train():\n",
        "    BATCH_SIZE = 200\n",
        "    EPOCHS = 25\n",
        "    with open(f\"GIFT_round=6_wang_baski.log\",\"w\") as f:\n",
        "        for epoch in progressbar.progressbar(range(EPOCHS)):\n",
        "            for i in range(0,len(train_X), BATCH_SIZE):\n",
        "\n",
        "                batch_X = train_X[i:i+BATCH_SIZE].view(-1,128).to(device)\n",
        "                batch_y = train_y[i:i+BATCH_SIZE].to(device)\n",
        "                \n",
        "                acc, loss = fwd_pass(batch_X, batch_y, train=True)\n",
        "            \n",
        "            if epoch%1 == 0:\n",
        "                # Validating model\n",
        "                random_start = np.random.randint(len(test_X)-BATCH_SIZE)\n",
        "                X, y = test_X[random_start:random_start+BATCH_SIZE], test_y[random_start:random_start+BATCH_SIZE]\n",
        "                with torch.no_grad():\n",
        "                    val_acc, val_loss = fwd_pass(X.view(-1,128).to(device),y.to(device))\n",
        "\n",
        "                # writing log file\n",
        "                f.write(f\"{MODEL_NAME},{epoch},{round(float(acc),2)},{round(float(loss),4)},{round(float(val_acc),2)},{round(float(val_loss),4)}\\n\")\n",
        "                \n",
        "                print(f\" Acc: {round(float(acc),2)}\\t Loss: {round(float(loss),4)}\\t Val_Acc: {round(float(val_acc),2)}\\t Val_Loss: {round(float(val_loss),4)}\")\n",
        "    \n",
        "    return val_acc\n",
        "\n",
        "acc = train()\n",
        "\n",
        "# checking for adequate accuracy\n",
        "\n",
        "# tolerance value for equating the accuracy of training and testing phase\n",
        "tol = 0.2/diff_class\n",
        "\n",
        "# while True:\n",
        "#     if (abs(acc - 1/diff_class) < tol):\n",
        "#         print(\"\\n\\nRestarting due to insufficient accuracy...\")\n",
        "#         acc = train()\n",
        "#     else:\n",
        "#         print(f\"\\n\\nTraining completed succesuccessfully with accuracy: {round(float(acc),2)}\")\n",
        "#         break"
      ],
      "execution_count": null,
      "outputs": [
        {
          "output_type": "stream",
          "text": [
            "running on CPU\n"
          ],
          "name": "stdout"
        },
        {
          "output_type": "stream",
          "text": [
            "\r                                                                               \r\rN/A% (0 of 25) |                         | Elapsed Time: 0:00:00 ETA:  --:--:--"
          ],
          "name": "stderr"
        },
        {
          "output_type": "stream",
          "text": [
            "GIFT_ML-Differential\n"
          ],
          "name": "stdout"
        },
        {
          "output_type": "stream",
          "text": [
            "\r                                                                               \r\r  4% (1 of 25) |#                        | Elapsed Time: 0:00:05 ETA:   0:02:16"
          ],
          "name": "stderr"
        },
        {
          "output_type": "stream",
          "text": [
            " Acc: 0.27\t Loss: 0.1876\t Val_Acc: 0.19\t Val_Loss: 0.1879\n"
          ],
          "name": "stdout"
        },
        {
          "output_type": "stream",
          "text": [
            "\r                                                                               \r\r  8% (2 of 25) |##                       | Elapsed Time: 0:00:11 ETA:   0:02:10"
          ],
          "name": "stderr"
        },
        {
          "output_type": "stream",
          "text": [
            " Acc: 0.28\t Loss: 0.1869\t Val_Acc: 0.23\t Val_Loss: 0.1879\n"
          ],
          "name": "stdout"
        },
        {
          "output_type": "stream",
          "text": [
            "\r                                                                               \r\r 12% (3 of 25) |###                      | Elapsed Time: 0:00:17 ETA:   0:02:09"
          ],
          "name": "stderr"
        },
        {
          "output_type": "stream",
          "text": [
            " Acc: 0.3\t Loss: 0.1852\t Val_Acc: 0.29\t Val_Loss: 0.1864\n"
          ],
          "name": "stdout"
        },
        {
          "output_type": "stream",
          "text": [
            "\r                                                                               \r\r 16% (4 of 25) |####                     | Elapsed Time: 0:00:22 ETA:   0:01:58"
          ],
          "name": "stderr"
        },
        {
          "output_type": "stream",
          "text": [
            " Acc: 0.35\t Loss: 0.184\t Val_Acc: 0.24\t Val_Loss: 0.1895\n"
          ],
          "name": "stdout"
        },
        {
          "output_type": "stream",
          "text": [
            "\r                                                                               \r\r 20% (5 of 25) |#####                    | Elapsed Time: 0:00:29 ETA:   0:02:06"
          ],
          "name": "stderr"
        },
        {
          "output_type": "stream",
          "text": [
            " Acc: 0.34\t Loss: 0.183\t Val_Acc: 0.24\t Val_Loss: 0.1903\n"
          ],
          "name": "stdout"
        },
        {
          "output_type": "stream",
          "text": [
            "\r                                                                               \r\r 24% (6 of 25) |######                   | Elapsed Time: 0:00:36 ETA:   0:02:16"
          ],
          "name": "stderr"
        },
        {
          "output_type": "stream",
          "text": [
            " Acc: 0.39\t Loss: 0.1794\t Val_Acc: 0.3\t Val_Loss: 0.1915\n"
          ],
          "name": "stdout"
        },
        {
          "output_type": "stream",
          "text": [
            "\r                                                                               \r\r 28% (7 of 25) |#######                  | Elapsed Time: 0:00:43 ETA:   0:02:03"
          ],
          "name": "stderr"
        },
        {
          "output_type": "stream",
          "text": [
            " Acc: 0.41\t Loss: 0.176\t Val_Acc: 0.28\t Val_Loss: 0.1918\n"
          ],
          "name": "stdout"
        },
        {
          "output_type": "stream",
          "text": [
            "\r                                                                               \r\r 32% (8 of 25) |########                 | Elapsed Time: 0:00:50 ETA:   0:02:07"
          ],
          "name": "stderr"
        },
        {
          "output_type": "stream",
          "text": [
            " Acc: 0.43\t Loss: 0.174\t Val_Acc: 0.25\t Val_Loss: 0.1944\n"
          ],
          "name": "stdout"
        },
        {
          "output_type": "stream",
          "text": [
            "\r                                                                               \r\r 36% (9 of 25) |#########                | Elapsed Time: 0:00:57 ETA:   0:01:51"
          ],
          "name": "stderr"
        },
        {
          "output_type": "stream",
          "text": [
            " Acc: 0.44\t Loss: 0.1701\t Val_Acc: 0.25\t Val_Loss: 0.1997\n"
          ],
          "name": "stdout"
        },
        {
          "output_type": "stream",
          "text": [
            "\r                                                                               \r\r 40% (10 of 25) |#########               | Elapsed Time: 0:01:04 ETA:   0:01:46"
          ],
          "name": "stderr"
        },
        {
          "output_type": "stream",
          "text": [
            " Acc: 0.46\t Loss: 0.1679\t Val_Acc: 0.23\t Val_Loss: 0.2039\n"
          ],
          "name": "stdout"
        },
        {
          "output_type": "stream",
          "text": [
            "\r                                                                               \r\r 44% (11 of 25) |##########              | Elapsed Time: 0:01:11 ETA:   0:01:33"
          ],
          "name": "stderr"
        },
        {
          "output_type": "stream",
          "text": [
            " Acc: 0.49\t Loss: 0.1592\t Val_Acc: 0.2\t Val_Loss: 0.2211\n"
          ],
          "name": "stdout"
        },
        {
          "output_type": "stream",
          "text": [
            "\r                                                                               \r\r 48% (12 of 25) |###########             | Elapsed Time: 0:01:17 ETA:   0:01:24"
          ],
          "name": "stderr"
        },
        {
          "output_type": "stream",
          "text": [
            " Acc: 0.58\t Loss: 0.1441\t Val_Acc: 0.29\t Val_Loss: 0.2123\n"
          ],
          "name": "stdout"
        },
        {
          "output_type": "stream",
          "text": [
            "\r                                                                               \r\r 52% (13 of 25) |############            | Elapsed Time: 0:01:24 ETA:   0:01:21"
          ],
          "name": "stderr"
        },
        {
          "output_type": "stream",
          "text": [
            " Acc: 0.59\t Loss: 0.1361\t Val_Acc: 0.23\t Val_Loss: 0.242\n"
          ],
          "name": "stdout"
        },
        {
          "output_type": "stream",
          "text": [
            "\r                                                                               \r\r 56% (14 of 25) |#############           | Elapsed Time: 0:01:31 ETA:   0:01:16"
          ],
          "name": "stderr"
        },
        {
          "output_type": "stream",
          "text": [
            " Acc: 0.55\t Loss: 0.1393\t Val_Acc: 0.26\t Val_Loss: 0.2339\n"
          ],
          "name": "stdout"
        },
        {
          "output_type": "stream",
          "text": [
            "\r                                                                               \r\r 60% (15 of 25) |##############          | Elapsed Time: 0:01:38 ETA:   0:01:10"
          ],
          "name": "stderr"
        },
        {
          "output_type": "stream",
          "text": [
            " Acc: 0.62\t Loss: 0.1245\t Val_Acc: 0.28\t Val_Loss: 0.2409\n"
          ],
          "name": "stdout"
        },
        {
          "output_type": "stream",
          "text": [
            "\r                                                                               \r\r 64% (16 of 25) |###############         | Elapsed Time: 0:01:45 ETA:   0:01:02"
          ],
          "name": "stderr"
        },
        {
          "output_type": "stream",
          "text": [
            " Acc: 0.6\t Loss: 0.1284\t Val_Acc: 0.25\t Val_Loss: 0.2277\n"
          ],
          "name": "stdout"
        },
        {
          "output_type": "stream",
          "text": [
            "\r                                                                               \r\r 68% (17 of 25) |################        | Elapsed Time: 0:01:52 ETA:   0:00:54"
          ],
          "name": "stderr"
        },
        {
          "output_type": "stream",
          "text": [
            " Acc: 0.69\t Loss: 0.1049\t Val_Acc: 0.21\t Val_Loss: 0.2537\n"
          ],
          "name": "stdout"
        },
        {
          "output_type": "stream",
          "text": [
            "\r                                                                               \r\r 72% (18 of 25) |#################       | Elapsed Time: 0:01:59 ETA:   0:00:48"
          ],
          "name": "stderr"
        },
        {
          "output_type": "stream",
          "text": [
            " Acc: 0.68\t Loss: 0.1096\t Val_Acc: 0.24\t Val_Loss: 0.2524\n"
          ],
          "name": "stdout"
        },
        {
          "output_type": "stream",
          "text": [
            "\r                                                                               \r\r 76% (19 of 25) |##################      | Elapsed Time: 0:02:06 ETA:   0:00:41"
          ],
          "name": "stderr"
        },
        {
          "output_type": "stream",
          "text": [
            " Acc: 0.76\t Loss: 0.0926\t Val_Acc: 0.23\t Val_Loss: 0.2573\n"
          ],
          "name": "stdout"
        },
        {
          "output_type": "stream",
          "text": [
            "\r                                                                               \r\r 80% (20 of 25) |###################     | Elapsed Time: 0:02:13 ETA:   0:00:34"
          ],
          "name": "stderr"
        },
        {
          "output_type": "stream",
          "text": [
            " Acc: 0.78\t Loss: 0.0804\t Val_Acc: 0.23\t Val_Loss: 0.2533\n"
          ],
          "name": "stdout"
        },
        {
          "output_type": "stream",
          "text": [
            "\r                                                                               \r\r 84% (21 of 25) |####################    | Elapsed Time: 0:02:20 ETA:   0:00:28"
          ],
          "name": "stderr"
        },
        {
          "output_type": "stream",
          "text": [
            " Acc: 0.77\t Loss: 0.0794\t Val_Acc: 0.25\t Val_Loss: 0.2618\n"
          ],
          "name": "stdout"
        },
        {
          "output_type": "stream",
          "text": [
            "\r                                                                               \r\r 88% (22 of 25) |#####################   | Elapsed Time: 0:02:26 ETA:   0:00:19"
          ],
          "name": "stderr"
        },
        {
          "output_type": "stream",
          "text": [
            " Acc: 0.82\t Loss: 0.0696\t Val_Acc: 0.25\t Val_Loss: 0.2615\n"
          ],
          "name": "stdout"
        },
        {
          "output_type": "stream",
          "text": [
            "\r                                                                               \r\r 92% (23 of 25) |######################  | Elapsed Time: 0:02:33 ETA:   0:00:13"
          ],
          "name": "stderr"
        },
        {
          "output_type": "stream",
          "text": [
            " Acc: 0.86\t Loss: 0.0554\t Val_Acc: 0.28\t Val_Loss: 0.2541\n"
          ],
          "name": "stdout"
        },
        {
          "output_type": "stream",
          "text": [
            "\r                                                                               \r\r 96% (24 of 25) |####################### | Elapsed Time: 0:02:40 ETA:   0:00:06"
          ],
          "name": "stderr"
        },
        {
          "output_type": "stream",
          "text": [
            " Acc: 0.81\t Loss: 0.0652\t Val_Acc: 0.29\t Val_Loss: 0.2545\n"
          ],
          "name": "stdout"
        },
        {
          "output_type": "stream",
          "text": [
            "\r                                                                               \r\r100% (25 of 25) |########################| Elapsed Time: 0:02:46 Time:  0:02:46\n"
          ],
          "name": "stderr"
        },
        {
          "output_type": "stream",
          "text": [
            " Acc: 0.92\t Loss: 0.0416\t Val_Acc: 0.24\t Val_Loss: 0.2647\n"
          ],
          "name": "stdout"
        }
      ]
    },
    {
      "cell_type": "code",
      "metadata": {
        "colab": {
          "base_uri": "https://localhost:8080/",
          "height": 698
        },
        "id": "FyJmCZ4OFMIo",
        "outputId": "2b19914f-91d3-4adf-bdcb-723962054691"
      },
      "source": [
        "\n",
        "# creating random test sample\n",
        "test_X_r = []\n",
        "test_y_r = []\n",
        "for i in range(len(test_X)):\n",
        "    test_X_r.append(np.random.randint(0,2,128))\n",
        "    test_y_r.append(np.eye(diff_class)[np.random.randint(0,diff_class)])\n",
        "\n",
        "test_X_r = torch.tensor(test_X_r)\n",
        "test_y_r = torch.tensor(test_y_r)\n",
        "\n",
        "# randomly selecting \n",
        "random_test = np.random.randint(0,2)\n",
        "random_test = 1\n",
        "if (random_test):\n",
        "    X, y = test_X, test_y\n",
        "else:\n",
        "    X, y = test_X_r, test_y_r\n",
        "\n",
        "with torch.no_grad():\n",
        "    outputs = net(X.view(-1,128).to(device).float())\n",
        "    matches = [torch.argmax(i) == torch.argmax(j) for i,j in zip(outputs,y.to(device))]\n",
        "    val_acc = matches.count(True)/len(matches)\n",
        "    # val_acc, val_loss = fwd_pass(X.view(-1,64).to(device),y.to(device))\n",
        "\n",
        "if (acc-val_acc <= tol):\n",
        "    pred = 1\n",
        "else:\n",
        "    pred = 0\n",
        "\n",
        "#print(f'Round reduced PRESENT to {rounds} rounds...')\n",
        "print(f'Number of difference classes used: {diff_class}')\n",
        "#print(f'PRESENT CIPHER = 1 | RANDOM = 0')\n",
        "print(f'Used dataset: {random_test} | Predicted dataset: {pred}')\n",
        "print(f'Acc: {round(float(acc),4)} | Val_acc: {round(float(val_acc),4)}')\n",
        "if (pred == random_test):\n",
        "    print('Success!')\n",
        "else:\n",
        "    print('Failure!')\n",
        "\n",
        "print(f'\\n\\n\\n\\n')\n",
        "\n",
        "\n",
        "import matplotlib.pyplot as plt\n",
        "from matplotlib import style\n",
        "\n",
        "%matplotlib inline\n",
        "\n",
        "def create_acc_loss_graph(model_name):\n",
        "    contents = open(f\"GIFT_round=6_wang_baski.log\",\"r\").read().split('\\n')\n",
        "    \n",
        "    epochs = []\n",
        "    accuracies = []\n",
        "    losses = []\n",
        "    \n",
        "    val_accs = []\n",
        "    val_losses = []\n",
        "    \n",
        "    for c in contents:\n",
        "        if model_name in c:\n",
        "            name, epoch, acc, loss, val_acc, val_loss = c.split(\",\")\n",
        "            \n",
        "            epochs.append(float(epoch))\n",
        "            accuracies.append(float(acc))\n",
        "            losses.append(float(loss))\n",
        "            \n",
        "            val_accs.append(float(val_acc))\n",
        "            val_losses.append(float(val_loss))\n",
        "            \n",
        "    fig = plt.figure()\n",
        "    \n",
        "    # ax1 = plt.subplot2grid((1,2), (0,0))\n",
        "    # ax2 = plt.subplot2grid((1,2), (0,1), sharex = ax1)\n",
        "    \n",
        "    plt.plot(epochs, accuracies, '-o', label = \"Training Accuracy\")\n",
        "    plt.plot(epochs, val_accs, '-^', label = \"Validation Accuracy\")\n",
        "    plt.ylabel('Accuracy', fontsize=12)\n",
        "    plt.xlabel('Epochs', fontsize=12)\n",
        "    plt.legend(loc=5, prop={'size': 12})\n",
        "    plt.grid()\n",
        "\n",
        "    plt.savefig(f'Acc_r={6}_c={diff_class}.png', dpi=360)\n",
        "\n",
        "    fig = plt.figure()\n",
        "    \n",
        "    plt.plot(epochs, losses, '-o', label = \"Training Loss\")\n",
        "    plt.plot(epochs, val_losses, '-^', label = \"Validation Loss\")\n",
        "    plt.ylabel('Loss', fontsize=12)\n",
        "    plt.xlabel('Epochs', fontsize=12)\n",
        "    plt.legend(loc=5, prop={'size': 12})\n",
        "    plt.grid()\n",
        "\n",
        "    plt.savefig(f'Loss_r={6}_c={diff_class}.png', dpi=360)\n",
        "    \n",
        "    plt.show()\n",
        "\n",
        "# model_name = \"PRESENT-1585941094\"\n",
        "model_name = MODEL_NAME\n",
        "\n",
        "create_acc_loss_graph(model_name)"
      ],
      "execution_count": null,
      "outputs": [
        {
          "output_type": "stream",
          "text": [
            "Number of difference classes used: 4\n",
            "Used dataset: 1 | Predicted dataset: 1\n",
            "Acc: 0.245 | Val_acc: 0.2514\n",
            "Success!\n",
            "\n",
            "\n",
            "\n",
            "\n",
            "\n"
          ],
          "name": "stdout"
        },
        {
          "output_type": "display_data",
          "data": {
            "image/png": "[encoded data removed]",
            "text/plain": [
              "<Figure size 432x288 with 1 Axes>"
            ]
          },
          "metadata": {
            "tags": [],
            "needs_background": "light"
          }
        },
        {
          "output_type": "display_data",
          "data": {
            "image/png": "[encoded data removed]",
            "text/plain": [
              "<Figure size 432x288 with 1 Axes>"
            ]
          },
          "metadata": {
            "tags": [],
            "needs_background": "light"
          }
        }
      ]
    },
    {
      "cell_type": "markdown",
      "metadata": {
        "id": "O3-lts9gOzwf"
      },
      "source": [
        "#**Model 2 --> Wang + Our**#"
      ]
    },
    {
      "cell_type": "code",
      "metadata": {
        "colab": {
          "base_uri": "https://localhost:8080/"
        },
        "id": "QsowWoMBO7CQ",
        "outputId": "f2f4ae46-77e1-49a3-df91-bcc888a0a517"
      },
      "source": [
        "import torch\n",
        "import torch.nn as nn\n",
        "import torch.nn.functional as F\n",
        "import torch.optim as optim\n",
        "\n",
        "if torch.cuda.is_available():\n",
        "    device = torch.device(\"cuda:0\")\n",
        "    print(\"running on GPU\")\n",
        "else :\n",
        "    device = torch.device(\"cpu\")\n",
        "    print(\"running on CPU\")\n",
        "\n",
        "# NN class\n",
        "class Net(nn.Module):\n",
        "    def __init__(self):\n",
        "        super().__init__()\n",
        "        self.l1 = nn.Linear(128,128)\n",
        "        self.l2 = nn.Linear(128,1024)\n",
        "        \n",
        "        self.f1 = nn.Linear(1024,diff_class)\n",
        "    \n",
        "    def forward(self, x):\n",
        "        x = F.relu(self.l1(x))\n",
        "        x = F.relu(self.l2(x))\n",
        "        \n",
        "\n",
        "        x = self.f1(x)\n",
        "        \n",
        "        return F.softmax(x, dim=1)\n",
        "    \n",
        "net = Net().to(device)\n",
        "\n",
        "# NN parameters\n",
        "optimizer = optim.Adam(net.parameters(), lr = 0.001)\n",
        "loss_function = nn.MSELoss()\n",
        "\n",
        "# converting dataset to tensors\n",
        "X = torch.Tensor(ciphers)\n",
        "y = torch.Tensor([np.eye(diff_class)[enc_class[i]] for i in range(len(enc_class))])\n",
        "\n",
        "VAL_PCT = 0.3\n",
        "val_size = int(len(X)*VAL_PCT)\n",
        "# print(val_size)\n",
        "\n",
        "train_X = X[:-val_size]\n",
        "train_y = y[:-val_size]\n",
        "\n",
        "test_X = X[-val_size:]\n",
        "test_y = y[-val_size:]\n",
        "\n",
        "# defining what to do in one iteration of data tensor throught the NN\n",
        "def fwd_pass(X, y, train=False):\n",
        "    if train:\n",
        "        net.zero_grad()\n",
        "    outputs = net(X)\n",
        "    matches = [torch.argmax(i) == torch.argmax(j) for i,j in zip(outputs,y)]\n",
        "    acc = matches.count(True)/len(matches)\n",
        "    loss = loss_function(outputs,y)\n",
        "    \n",
        "    if train:\n",
        "        loss.backward()\n",
        "        optimizer.step()\n",
        "    \n",
        "    return acc, loss\n",
        "\n",
        "\n",
        "MODEL_NAME = f\"GIFT_ML-Differential\"\n",
        "\n",
        "net = Net().to(device)\n",
        "optimizer = optim.Adam(net.parameters(), lr = 0.001)\n",
        "loss_function = nn.MSELoss()\n",
        "\n",
        "print(MODEL_NAME)\n",
        "\n",
        "def test(size=32):\n",
        "    \n",
        "    random_start = np.random.randint(len(test_X)-size)\n",
        "    X, y = test_X[random_start:random_start+size], test_y[random_start:random_start+size]\n",
        "    with torch.no_grad():\n",
        "        val_acc, val_loss = fwd_pass(X.view(-1,128).to(device),y.to(device))\n",
        "    return val_acc, val_loss\n",
        "\n",
        "# defining training method\n",
        "def train():\n",
        "    BATCH_SIZE = 200\n",
        "    EPOCHS = 25\n",
        "    with open(f\"GIFT_round=5_wang_our.log\",\"w\") as f:\n",
        "        for epoch in progressbar.progressbar(range(EPOCHS)):\n",
        "            for i in range(0,len(train_X), BATCH_SIZE):\n",
        "\n",
        "                batch_X = train_X[i:i+BATCH_SIZE].view(-1,128).to(device)\n",
        "                batch_y = train_y[i:i+BATCH_SIZE].to(device)\n",
        "                \n",
        "                acc, loss = fwd_pass(batch_X, batch_y, train=True)\n",
        "            \n",
        "            if epoch%1 == 0:\n",
        "                # Validating model\n",
        "                random_start = np.random.randint(len(test_X)-BATCH_SIZE)\n",
        "                X, y = test_X[random_start:random_start+BATCH_SIZE], test_y[random_start:random_start+BATCH_SIZE]\n",
        "                with torch.no_grad():\n",
        "                    val_acc, val_loss = fwd_pass(X.view(-1,128).to(device),y.to(device))\n",
        "\n",
        "                # writing log file\n",
        "                f.write(f\"{MODEL_NAME},{epoch},{round(float(acc),2)},{round(float(loss),4)},{round(float(val_acc),2)},{round(float(val_loss),4)}\\n\")\n",
        "                \n",
        "                print(f\" Acc: {round(float(acc),2)}\\t Loss: {round(float(loss),4)}\\t Val_Acc: {round(float(val_acc),2)}\\t Val_Loss: {round(float(val_loss),4)}\")\n",
        "    \n",
        "    return val_acc\n",
        "\n",
        "acc = train()\n",
        "\n",
        "# checking for adequate accuracy\n",
        "\n",
        "# tolerance value for equating the accuracy of training and testing phase\n",
        "tol = 0.2/diff_class"
      ],
      "execution_count": null,
      "outputs": [
        {
          "output_type": "stream",
          "text": [
            "running on CPU\n"
          ],
          "name": "stdout"
        },
        {
          "output_type": "stream",
          "text": [
            "\r                                                                               \r\rN/A% (0 of 25) |                         | Elapsed Time: 0:00:00 ETA:  --:--:--"
          ],
          "name": "stderr"
        },
        {
          "output_type": "stream",
          "text": [
            "GIFT_ML-Differential\n"
          ],
          "name": "stdout"
        },
        {
          "output_type": "stream",
          "text": [
            "\r                                                                               \r\r  4% (1 of 25) |#                        | Elapsed Time: 0:00:01 ETA:   0:00:31"
          ],
          "name": "stderr"
        },
        {
          "output_type": "stream",
          "text": [
            " Acc: 0.28\t Loss: 0.1864\t Val_Acc: 0.28\t Val_Loss: 0.1861\n"
          ],
          "name": "stdout"
        },
        {
          "output_type": "stream",
          "text": [
            "\r                                                                               \r\r  8% (2 of 25) |##                       | Elapsed Time: 0:00:02 ETA:   0:00:30"
          ],
          "name": "stderr"
        },
        {
          "output_type": "stream",
          "text": [
            " Acc: 0.28\t Loss: 0.184\t Val_Acc: 0.27\t Val_Loss: 0.1853\n"
          ],
          "name": "stdout"
        },
        {
          "output_type": "stream",
          "text": [
            "\r                                                                               \r\r 12% (3 of 25) |###                      | Elapsed Time: 0:00:04 ETA:   0:00:29"
          ],
          "name": "stderr"
        },
        {
          "output_type": "stream",
          "text": [
            " Acc: 0.33\t Loss: 0.1796\t Val_Acc: 0.3\t Val_Loss: 0.1846\n"
          ],
          "name": "stdout"
        },
        {
          "output_type": "stream",
          "text": [
            "\r                                                                               \r\r 16% (4 of 25) |####                     | Elapsed Time: 0:00:05 ETA:   0:00:28"
          ],
          "name": "stderr"
        },
        {
          "output_type": "stream",
          "text": [
            " Acc: 0.39\t Loss: 0.1747\t Val_Acc: 0.29\t Val_Loss: 0.1888\n"
          ],
          "name": "stdout"
        },
        {
          "output_type": "stream",
          "text": [
            "\r                                                                               \r\r 20% (5 of 25) |#####                    | Elapsed Time: 0:00:06 ETA:   0:00:27"
          ],
          "name": "stderr"
        },
        {
          "output_type": "stream",
          "text": [
            " Acc: 0.41\t Loss: 0.1695\t Val_Acc: 0.28\t Val_Loss: 0.1877\n"
          ],
          "name": "stdout"
        },
        {
          "output_type": "stream",
          "text": [
            "\r                                                                               \r\r 24% (6 of 25) |######                   | Elapsed Time: 0:00:08 ETA:   0:00:26"
          ],
          "name": "stderr"
        },
        {
          "output_type": "stream",
          "text": [
            " Acc: 0.43\t Loss: 0.1663\t Val_Acc: 0.31\t Val_Loss: 0.1847\n"
          ],
          "name": "stdout"
        },
        {
          "output_type": "stream",
          "text": [
            "\r                                                                               \r\r 28% (7 of 25) |#######                  | Elapsed Time: 0:00:09 ETA:   0:00:24"
          ],
          "name": "stderr"
        },
        {
          "output_type": "stream",
          "text": [
            " Acc: 0.47\t Loss: 0.162\t Val_Acc: 0.28\t Val_Loss: 0.1953\n"
          ],
          "name": "stdout"
        },
        {
          "output_type": "stream",
          "text": [
            "\r                                                                               \r\r 32% (8 of 25) |########                 | Elapsed Time: 0:00:10 ETA:   0:00:23"
          ],
          "name": "stderr"
        },
        {
          "output_type": "stream",
          "text": [
            " Acc: 0.51\t Loss: 0.1563\t Val_Acc: 0.29\t Val_Loss: 0.2016\n"
          ],
          "name": "stdout"
        },
        {
          "output_type": "stream",
          "text": [
            "\r                                                                               \r\r 36% (9 of 25) |#########                | Elapsed Time: 0:00:12 ETA:   0:00:21"
          ],
          "name": "stderr"
        },
        {
          "output_type": "stream",
          "text": [
            " Acc: 0.53\t Loss: 0.1478\t Val_Acc: 0.34\t Val_Loss: 0.195\n"
          ],
          "name": "stdout"
        },
        {
          "output_type": "stream",
          "text": [
            "\r                                                                               \r\r 40% (10 of 25) |#########               | Elapsed Time: 0:00:13 ETA:   0:00:20"
          ],
          "name": "stderr"
        },
        {
          "output_type": "stream",
          "text": [
            " Acc: 0.54\t Loss: 0.1443\t Val_Acc: 0.27\t Val_Loss: 0.2051\n"
          ],
          "name": "stdout"
        },
        {
          "output_type": "stream",
          "text": [
            "\r                                                                               \r\r 44% (11 of 25) |##########              | Elapsed Time: 0:00:15 ETA:   0:00:19"
          ],
          "name": "stderr"
        },
        {
          "output_type": "stream",
          "text": [
            " Acc: 0.58\t Loss: 0.1395\t Val_Acc: 0.27\t Val_Loss: 0.2113\n"
          ],
          "name": "stdout"
        },
        {
          "output_type": "stream",
          "text": [
            "\r                                                                               \r\r 48% (12 of 25) |###########             | Elapsed Time: 0:00:16 ETA:   0:00:17"
          ],
          "name": "stderr"
        },
        {
          "output_type": "stream",
          "text": [
            " Acc: 0.59\t Loss: 0.1351\t Val_Acc: 0.27\t Val_Loss: 0.2093\n"
          ],
          "name": "stdout"
        },
        {
          "output_type": "stream",
          "text": [
            "\r                                                                               \r\r 52% (13 of 25) |############            | Elapsed Time: 0:00:17 ETA:   0:00:17"
          ],
          "name": "stderr"
        },
        {
          "output_type": "stream",
          "text": [
            " Acc: 0.6\t Loss: 0.1331\t Val_Acc: 0.27\t Val_Loss: 0.2107\n"
          ],
          "name": "stdout"
        },
        {
          "output_type": "stream",
          "text": [
            "\r                                                                               \r\r 56% (14 of 25) |#############           | Elapsed Time: 0:00:19 ETA:   0:00:15"
          ],
          "name": "stderr"
        },
        {
          "output_type": "stream",
          "text": [
            " Acc: 0.6\t Loss: 0.1332\t Val_Acc: 0.32\t Val_Loss: 0.2165\n"
          ],
          "name": "stdout"
        },
        {
          "output_type": "stream",
          "text": [
            "\r                                                                               \r\r 60% (15 of 25) |##############          | Elapsed Time: 0:00:20 ETA:   0:00:13"
          ],
          "name": "stderr"
        },
        {
          "output_type": "stream",
          "text": [
            " Acc: 0.64\t Loss: 0.1304\t Val_Acc: 0.24\t Val_Loss: 0.2286\n"
          ],
          "name": "stdout"
        },
        {
          "output_type": "stream",
          "text": [
            "\r                                                                               \r\r 64% (16 of 25) |###############         | Elapsed Time: 0:00:21 ETA:   0:00:12"
          ],
          "name": "stderr"
        },
        {
          "output_type": "stream",
          "text": [
            " Acc: 0.64\t Loss: 0.1263\t Val_Acc: 0.33\t Val_Loss: 0.2116\n"
          ],
          "name": "stdout"
        },
        {
          "output_type": "stream",
          "text": [
            "\r                                                                               \r\r 68% (17 of 25) |################        | Elapsed Time: 0:00:23 ETA:   0:00:10"
          ],
          "name": "stderr"
        },
        {
          "output_type": "stream",
          "text": [
            " Acc: 0.62\t Loss: 0.1277\t Val_Acc: 0.32\t Val_Loss: 0.2151\n"
          ],
          "name": "stdout"
        },
        {
          "output_type": "stream",
          "text": [
            "\r                                                                               \r\r 72% (18 of 25) |#################       | Elapsed Time: 0:00:24 ETA:   0:00:09"
          ],
          "name": "stderr"
        },
        {
          "output_type": "stream",
          "text": [
            " Acc: 0.65\t Loss: 0.1222\t Val_Acc: 0.3\t Val_Loss: 0.2136\n"
          ],
          "name": "stdout"
        },
        {
          "output_type": "stream",
          "text": [
            "\r                                                                               \r\r 76% (19 of 25) |##################      | Elapsed Time: 0:00:25 ETA:   0:00:07"
          ],
          "name": "stderr"
        },
        {
          "output_type": "stream",
          "text": [
            " Acc: 0.68\t Loss: 0.1176\t Val_Acc: 0.3\t Val_Loss: 0.2184\n"
          ],
          "name": "stdout"
        },
        {
          "output_type": "stream",
          "text": [
            "\r                                                                               \r\r 80% (20 of 25) |###################     | Elapsed Time: 0:00:27 ETA:   0:00:06"
          ],
          "name": "stderr"
        },
        {
          "output_type": "stream",
          "text": [
            " Acc: 0.69\t Loss: 0.1149\t Val_Acc: 0.31\t Val_Loss: 0.2246\n"
          ],
          "name": "stdout"
        },
        {
          "output_type": "stream",
          "text": [
            "\r                                                                               \r\r 84% (21 of 25) |####################    | Elapsed Time: 0:00:28 ETA:   0:00:05"
          ],
          "name": "stderr"
        },
        {
          "output_type": "stream",
          "text": [
            " Acc: 0.69\t Loss: 0.1095\t Val_Acc: 0.24\t Val_Loss: 0.247\n"
          ],
          "name": "stdout"
        },
        {
          "output_type": "stream",
          "text": [
            "\r                                                                               \r\r 88% (22 of 25) |#####################   | Elapsed Time: 0:00:29 ETA:   0:00:03"
          ],
          "name": "stderr"
        },
        {
          "output_type": "stream",
          "text": [
            " Acc: 0.67\t Loss: 0.1132\t Val_Acc: 0.28\t Val_Loss: 0.2339\n"
          ],
          "name": "stdout"
        },
        {
          "output_type": "stream",
          "text": [
            "\r                                                                               \r\r 92% (23 of 25) |######################  | Elapsed Time: 0:00:31 ETA:   0:00:02"
          ],
          "name": "stderr"
        },
        {
          "output_type": "stream",
          "text": [
            " Acc: 0.62\t Loss: 0.132\t Val_Acc: 0.26\t Val_Loss: 0.2464\n"
          ],
          "name": "stdout"
        },
        {
          "output_type": "stream",
          "text": [
            "\r                                                                               \r\r 96% (24 of 25) |####################### | Elapsed Time: 0:00:32 ETA:   0:00:01"
          ],
          "name": "stderr"
        },
        {
          "output_type": "stream",
          "text": [
            " Acc: 0.69\t Loss: 0.1157\t Val_Acc: 0.33\t Val_Loss: 0.2348\n"
          ],
          "name": "stdout"
        },
        {
          "output_type": "stream",
          "text": [
            "\r                                                                               \r\r100% (25 of 25) |########################| Elapsed Time: 0:00:33 Time:  0:00:33\n"
          ],
          "name": "stderr"
        },
        {
          "output_type": "stream",
          "text": [
            " Acc: 0.69\t Loss: 0.1067\t Val_Acc: 0.29\t Val_Loss: 0.2497\n"
          ],
          "name": "stdout"
        }
      ]
    },
    {
      "cell_type": "code",
      "metadata": {
        "id": "DDq5mkrXjwKs"
      },
      "source": [
        "test_X_r = []\n",
        "test_y_r = []\n",
        "for i in range(len(test_X)):\n",
        "    test_X_r.append(np.random.randint(0,2,128))\n",
        "    test_y_r.append(np.eye(diff_class)[np.random.randint(0,diff_class)])\n",
        "\n",
        "test_X_r = torch.tensor(test_X_r)\n",
        "test_y_r = torch.tensor(test_y_r)\n",
        "\n",
        "# randomly selecting \n",
        "random_test = np.random.randint(0,2)\n",
        "random_test = 1\n",
        "if (random_test):\n",
        "    X, y = test_X, test_y\n",
        "else:\n",
        "    X, y = test_X_r, test_y_r\n",
        "\n",
        "with torch.no_grad():\n",
        "    outputs = net(X.view(-1,128).to(device).float())\n",
        "    matches = [torch.argmax(i) == torch.argmax(j) for i,j in zip(outputs,y.to(device))]\n",
        "    val_acc = matches.count(True)/len(matches)\n",
        "    # val_acc, val_loss = fwd_pass(X.view(-1,64).to(device),y.to(device))\n",
        "\n",
        "if (acc-val_acc <= tol):\n",
        "    pred = 1\n",
        "else:\n",
        "    pred = 0\n",
        "\n",
        "#print(f'Round reduced PRESENT to {rounds} rounds...')\n",
        "print(f'Number of difference classes used: {diff_class}')\n",
        "#print(f'PRESENT CIPHER = 1 | RANDOM = 0')\n",
        "print(f'Used dataset: {random_test} | Predicted dataset: {pred}')\n",
        "print(f'Acc: {round(float(acc),4)} | Val_acc: {round(float(val_acc),4)}')\n",
        "if (pred == random_test):\n",
        "    print('Success!')\n",
        "else:\n",
        "    print('Failure!')\n",
        "\n",
        "print(f'\\n\\n\\n\\n')\n",
        "\n",
        "\n",
        "import matplotlib.pyplot as plt\n",
        "from matplotlib import style\n",
        "\n",
        "%matplotlib inline\n",
        "\n",
        "def create_acc_loss_graph(model_name):\n",
        "    contents = open(f\"GIFT_round=5_wang_our.log\",\"r\").read().split('\\n')\n",
        "    \n",
        "    epochs = []\n",
        "    accuracies = []\n",
        "    losses = []\n",
        "    \n",
        "    val_accs = []\n",
        "    val_losses = []\n",
        "    \n",
        "    for c in contents:\n",
        "        if model_name in c:\n",
        "            name, epoch, acc, loss, val_acc, val_loss = c.split(\",\")\n",
        "            \n",
        "            epochs.append(float(epoch))\n",
        "            accuracies.append(float(acc))\n",
        "            losses.append(float(loss))\n",
        "            \n",
        "            val_accs.append(float(val_acc))\n",
        "            val_losses.append(float(val_loss))\n",
        "            \n",
        "    fig = plt.figure()\n",
        "    \n",
        "    # ax1 = plt.subplot2grid((1,2), (0,0))\n",
        "    # ax2 = plt.subplot2grid((1,2), (0,1), sharex = ax1)\n",
        "    \n",
        "    plt.plot(epochs, accuracies, '-o', label = \"Training Accuracy\")\n",
        "    plt.plot(epochs, val_accs, '-^', label = \"Validation Accuracy\")\n",
        "    plt.ylabel('Accuracy', fontsize=12)\n",
        "    plt.xlabel('Epochs', fontsize=12)\n",
        "    plt.legend(loc=5, prop={'size': 12})\n",
        "    plt.grid()\n",
        "\n",
        "    plt.savefig(f'Acc2_r={5}_c={diff_class}.png', dpi=360)\n",
        "\n",
        "    fig = plt.figure()\n",
        "    \n",
        "    plt.plot(epochs, losses, '-o', label = \"Training Loss\")\n",
        "    plt.plot(epochs, val_losses, '-^', label = \"Validation Loss\")\n",
        "    plt.ylabel('Loss', fontsize=12)\n",
        "    plt.xlabel('Epochs', fontsize=12)\n",
        "    plt.legend(loc=5, prop={'size': 12})\n",
        "    plt.grid()\n",
        "\n",
        "    plt.savefig(f'Loss2_r={5}_c={diff_class}.png', dpi=360)\n",
        "    \n",
        "    plt.show()\n",
        "\n",
        "# model_name = \"PRESENT-1585941094\"\n",
        "model_name = MODEL_NAME\n",
        "\n",
        "create_acc_loss_graph(model_name)"
      ],
      "execution_count": null,
      "outputs": []
    },
    {
      "cell_type": "markdown",
      "metadata": {
        "id": "n4soY4MztwIT"
      },
      "source": [
        "#**Model 3 --> Random + Baksi**#"
      ]
    },
    {
      "cell_type": "code",
      "metadata": {
        "id": "_1bANbLouQPY",
        "colab": {
          "base_uri": "https://localhost:8080/"
        },
        "outputId": "f9491782-0c0c-4f15-bd1d-6ec266a6615e"
      },
      "source": [
        "import torch\n",
        "import torch.nn as nn\n",
        "import torch.nn.functional as F\n",
        "import torch.optim as optim\n",
        "\n",
        "if torch.cuda.is_available():\n",
        "    device = torch.device(\"cuda:0\")\n",
        "    print(\"running on GPU\")\n",
        "else :\n",
        "    device = torch.device(\"cpu\")\n",
        "    print(\"running on CPU\")\n",
        "\n",
        "# NN class\n",
        "class Net(nn.Module):\n",
        "    def __init__(self):\n",
        "        super().__init__()\n",
        "        self.l1 = nn.Linear(128,128)\n",
        "        self.l2 = nn.Linear(128,1024)\n",
        "        self.l3 = nn.Linear(1024,1024)\n",
        "\n",
        "        self.f1 = nn.Linear(1024,diff_class)\n",
        "    \n",
        "    def forward(self, x):\n",
        "        x = F.relu(self.l1(x))\n",
        "        x = F.relu(self.l2(x))\n",
        "        x = F.relu(self.l3(x))\n",
        "\n",
        "        x = self.f1(x)\n",
        "        \n",
        "        return F.softmax(x, dim=1)\n",
        "    \n",
        "net = Net().to(device)\n",
        "\n",
        "# NN parameters\n",
        "optimizer = optim.Adam(net.parameters(), lr = 0.001)\n",
        "loss_function = nn.MSELoss()\n",
        "\n",
        "# converting dataset to tensors\n",
        "X = torch.Tensor(ciphers1)\n",
        "y = torch.Tensor([np.eye(diff_class)[enc_class1[i]] for i in range(len(enc_class1))])\n",
        "\n",
        "VAL_PCT = 0.3\n",
        "val_size = int(len(X)*VAL_PCT)\n",
        "# print(val_size)\n",
        "\n",
        "train_X = X[:-val_size]\n",
        "train_y = y[:-val_size]\n",
        "\n",
        "test_X = X[-val_size:]\n",
        "test_y = y[-val_size:]\n",
        "\n",
        "# defining what to do in one iteration of data tensor throught the NN\n",
        "def fwd_pass(X, y, train=False):\n",
        "    if train:\n",
        "        net.zero_grad()\n",
        "    outputs = net(X)\n",
        "    matches = [torch.argmax(i) == torch.argmax(j) for i,j in zip(outputs,y)]\n",
        "    acc = matches.count(True)/len(matches)\n",
        "    loss = loss_function(outputs,y)\n",
        "    \n",
        "    if train:\n",
        "        loss.backward()\n",
        "        optimizer.step()\n",
        "    \n",
        "    return acc, loss\n",
        "\n",
        "\n",
        "MODEL_NAME = f\"GIFT_ML-Differential\"\n",
        "\n",
        "net = Net().to(device)\n",
        "optimizer = optim.Adam(net.parameters(), lr = 0.001)\n",
        "loss_function = nn.MSELoss()\n",
        "\n",
        "print(MODEL_NAME)\n",
        "\n",
        "def test(size=32):\n",
        "    \n",
        "    random_start = np.random.randint(len(test_X)-size)\n",
        "    X, y = test_X[random_start:random_start+size], test_y[random_start:random_start+size]\n",
        "    with torch.no_grad():\n",
        "        val_acc, val_loss = fwd_pass(X.view(-1,128).to(device),y.to(device))\n",
        "    return val_acc, val_loss\n",
        "\n",
        "# defining training method\n",
        "def train():\n",
        "    BATCH_SIZE = 200\n",
        "    EPOCHS = 25\n",
        "    with open(f\"GIFT_round=6_random_baski.log\",\"w\") as f:\n",
        "        for epoch in progressbar.progressbar(range(EPOCHS)):\n",
        "            for i in range(0,len(train_X), BATCH_SIZE):\n",
        "\n",
        "                batch_X = train_X[i:i+BATCH_SIZE].view(-1,128).to(device)\n",
        "                batch_y = train_y[i:i+BATCH_SIZE].to(device)\n",
        "                \n",
        "                acc, loss = fwd_pass(batch_X, batch_y, train=True)\n",
        "            \n",
        "            if epoch%1 == 0:\n",
        "                # Validating model\n",
        "                random_start = np.random.randint(len(test_X)-BATCH_SIZE)\n",
        "                X, y = test_X[random_start:random_start+BATCH_SIZE], test_y[random_start:random_start+BATCH_SIZE]\n",
        "                with torch.no_grad():\n",
        "                    val_acc, val_loss = fwd_pass(X.view(-1,128).to(device),y.to(device))\n",
        "\n",
        "                # writing log file\n",
        "                f.write(f\"{MODEL_NAME},{epoch},{round(float(acc),2)},{round(float(loss),4)},{round(float(val_acc),2)},{round(float(val_loss),4)}\\n\")\n",
        "                \n",
        "                print(f\" Acc: {round(float(acc),2)}\\t Loss: {round(float(loss),4)}\\t Val_Acc: {round(float(val_acc),2)}\\t Val_Loss: {round(float(val_loss),4)}\")\n",
        "    \n",
        "    return val_acc\n",
        "\n",
        "acc = train()\n",
        "\n",
        "# checking for adequate accuracy\n",
        "\n",
        "# tolerance value for equating the accuracy of training and testing phase\n",
        "tol = 0.2/diff_class\n",
        "\n",
        "# while True:\n",
        "#     if (abs(acc - 1/diff_class) < tol):\n",
        "#         print(\"\\n\\nRestarting due to insufficient accuracy...\")\n",
        "#         acc = train()\n",
        "#     else:\n",
        "#         print(f\"\\n\\nTraining completed succesuccessfully with accuracy: {round(float(acc),2)}\")\n",
        "#         break"
      ],
      "execution_count": 29,
      "outputs": [
        {
          "output_type": "stream",
          "text": [
            "running on CPU\n"
          ],
          "name": "stdout"
        },
        {
          "output_type": "stream",
          "text": [
            "\r                                                                               \r\rN/A% (0 of 25) |                         | Elapsed Time: 0:00:00 ETA:  --:--:--"
          ],
          "name": "stderr"
        },
        {
          "output_type": "stream",
          "text": [
            "GIFT_ML-Differential\n"
          ],
          "name": "stdout"
        },
        {
          "output_type": "stream",
          "text": [
            "\r                                                                               \r\r  4% (1 of 25) |#                        | Elapsed Time: 0:00:05 ETA:   0:02:21"
          ],
          "name": "stderr"
        },
        {
          "output_type": "stream",
          "text": [
            " Acc: 0.27\t Loss: 0.1875\t Val_Acc: 0.24\t Val_Loss: 0.1876\n"
          ],
          "name": "stdout"
        },
        {
          "output_type": "stream",
          "text": [
            "\r                                                                               \r\r  8% (2 of 25) |##                       | Elapsed Time: 0:00:11 ETA:   0:02:15"
          ],
          "name": "stderr"
        },
        {
          "output_type": "stream",
          "text": [
            " Acc: 0.24\t Loss: 0.1875\t Val_Acc: 0.27\t Val_Loss: 0.1878\n"
          ],
          "name": "stdout"
        },
        {
          "output_type": "stream",
          "text": [
            "\r                                                                               \r\r 12% (3 of 25) |###                      | Elapsed Time: 0:00:17 ETA:   0:02:09"
          ],
          "name": "stderr"
        },
        {
          "output_type": "stream",
          "text": [
            " Acc: 0.26\t Loss: 0.1873\t Val_Acc: 0.25\t Val_Loss: 0.1883\n"
          ],
          "name": "stdout"
        },
        {
          "output_type": "stream",
          "text": [
            "\r                                                                               \r\r 16% (4 of 25) |####                     | Elapsed Time: 0:00:23 ETA:   0:02:04"
          ],
          "name": "stderr"
        },
        {
          "output_type": "stream",
          "text": [
            " Acc: 0.33\t Loss: 0.1865\t Val_Acc: 0.24\t Val_Loss: 0.1885\n"
          ],
          "name": "stdout"
        },
        {
          "output_type": "stream",
          "text": [
            "\r                                                                               \r\r 20% (5 of 25) |#####                    | Elapsed Time: 0:00:30 ETA:   0:02:13"
          ],
          "name": "stderr"
        },
        {
          "output_type": "stream",
          "text": [
            " Acc: 0.31\t Loss: 0.1859\t Val_Acc: 0.28\t Val_Loss: 0.1875\n"
          ],
          "name": "stdout"
        },
        {
          "output_type": "stream",
          "text": [
            "\r                                                                               \r\r 24% (6 of 25) |######                   | Elapsed Time: 0:00:37 ETA:   0:02:15"
          ],
          "name": "stderr"
        },
        {
          "output_type": "stream",
          "text": [
            " Acc: 0.34\t Loss: 0.1846\t Val_Acc: 0.2\t Val_Loss: 0.1916\n"
          ],
          "name": "stdout"
        },
        {
          "output_type": "stream",
          "text": [
            "\r                                                                               \r\r 28% (7 of 25) |#######                  | Elapsed Time: 0:00:44 ETA:   0:02:02"
          ],
          "name": "stderr"
        },
        {
          "output_type": "stream",
          "text": [
            " Acc: 0.34\t Loss: 0.184\t Val_Acc: 0.27\t Val_Loss: 0.1892\n"
          ],
          "name": "stdout"
        },
        {
          "output_type": "stream",
          "text": [
            "\r                                                                               \r\r 32% (8 of 25) |########                 | Elapsed Time: 0:00:51 ETA:   0:01:57"
          ],
          "name": "stderr"
        },
        {
          "output_type": "stream",
          "text": [
            " Acc: 0.29\t Loss: 0.1843\t Val_Acc: 0.27\t Val_Loss: 0.188\n"
          ],
          "name": "stdout"
        },
        {
          "output_type": "stream",
          "text": [
            "\r                                                                               \r\r 36% (9 of 25) |#########                | Elapsed Time: 0:00:58 ETA:   0:01:51"
          ],
          "name": "stderr"
        },
        {
          "output_type": "stream",
          "text": [
            " Acc: 0.32\t Loss: 0.1831\t Val_Acc: 0.23\t Val_Loss: 0.1919\n"
          ],
          "name": "stdout"
        },
        {
          "output_type": "stream",
          "text": [
            "\r                                                                               \r\r 40% (10 of 25) |#########               | Elapsed Time: 0:01:05 ETA:   0:01:45"
          ],
          "name": "stderr"
        },
        {
          "output_type": "stream",
          "text": [
            " Acc: 0.28\t Loss: 0.1854\t Val_Acc: 0.2\t Val_Loss: 0.1938\n"
          ],
          "name": "stdout"
        },
        {
          "output_type": "stream",
          "text": [
            "\r                                                                               \r\r 44% (11 of 25) |##########              | Elapsed Time: 0:01:12 ETA:   0:01:38"
          ],
          "name": "stderr"
        },
        {
          "output_type": "stream",
          "text": [
            " Acc: 0.32\t Loss: 0.184\t Val_Acc: 0.24\t Val_Loss: 0.192\n"
          ],
          "name": "stdout"
        },
        {
          "output_type": "stream",
          "text": [
            "\r                                                                               \r\r 48% (12 of 25) |###########             | Elapsed Time: 0:01:18 ETA:   0:01:29"
          ],
          "name": "stderr"
        },
        {
          "output_type": "stream",
          "text": [
            " Acc: 0.34\t Loss: 0.1831\t Val_Acc: 0.27\t Val_Loss: 0.1895\n"
          ],
          "name": "stdout"
        },
        {
          "output_type": "stream",
          "text": [
            "\r                                                                               \r\r 52% (13 of 25) |############            | Elapsed Time: 0:01:25 ETA:   0:01:23"
          ],
          "name": "stderr"
        },
        {
          "output_type": "stream",
          "text": [
            " Acc: 0.34\t Loss: 0.1812\t Val_Acc: 0.28\t Val_Loss: 0.1917\n"
          ],
          "name": "stdout"
        },
        {
          "output_type": "stream",
          "text": [
            "\r                                                                               \r\r 56% (14 of 25) |#############           | Elapsed Time: 0:01:32 ETA:   0:01:15"
          ],
          "name": "stderr"
        },
        {
          "output_type": "stream",
          "text": [
            " Acc: 0.38\t Loss: 0.1791\t Val_Acc: 0.24\t Val_Loss: 0.1992\n"
          ],
          "name": "stdout"
        },
        {
          "output_type": "stream",
          "text": [
            "\r                                                                               \r\r 60% (15 of 25) |##############          | Elapsed Time: 0:01:39 ETA:   0:01:08"
          ],
          "name": "stderr"
        },
        {
          "output_type": "stream",
          "text": [
            " Acc: 0.45\t Loss: 0.1715\t Val_Acc: 0.23\t Val_Loss: 0.204\n"
          ],
          "name": "stdout"
        },
        {
          "output_type": "stream",
          "text": [
            "\r                                                                               \r\r 64% (16 of 25) |###############         | Elapsed Time: 0:01:46 ETA:   0:01:01"
          ],
          "name": "stderr"
        },
        {
          "output_type": "stream",
          "text": [
            " Acc: 0.49\t Loss: 0.1632\t Val_Acc: 0.21\t Val_Loss: 0.2091\n"
          ],
          "name": "stdout"
        },
        {
          "output_type": "stream",
          "text": [
            "\r                                                                               \r\r 68% (17 of 25) |################        | Elapsed Time: 0:01:53 ETA:   0:00:54"
          ],
          "name": "stderr"
        },
        {
          "output_type": "stream",
          "text": [
            " Acc: 0.55\t Loss: 0.1562\t Val_Acc: 0.21\t Val_Loss: 0.2192\n"
          ],
          "name": "stdout"
        },
        {
          "output_type": "stream",
          "text": [
            "\r                                                                               \r\r 72% (18 of 25) |#################       | Elapsed Time: 0:02:00 ETA:   0:00:47"
          ],
          "name": "stderr"
        },
        {
          "output_type": "stream",
          "text": [
            " Acc: 0.57\t Loss: 0.1418\t Val_Acc: 0.22\t Val_Loss: 0.2215\n"
          ],
          "name": "stdout"
        },
        {
          "output_type": "stream",
          "text": [
            "\r                                                                               \r\r 76% (19 of 25) |##################      | Elapsed Time: 0:02:06 ETA:   0:00:39"
          ],
          "name": "stderr"
        },
        {
          "output_type": "stream",
          "text": [
            " Acc: 0.59\t Loss: 0.1337\t Val_Acc: 0.2\t Val_Loss: 0.2344\n"
          ],
          "name": "stdout"
        },
        {
          "output_type": "stream",
          "text": [
            "\r                                                                               \r\r 80% (20 of 25) |###################     | Elapsed Time: 0:02:13 ETA:   0:00:33"
          ],
          "name": "stderr"
        },
        {
          "output_type": "stream",
          "text": [
            " Acc: 0.62\t Loss: 0.1238\t Val_Acc: 0.25\t Val_Loss: 0.236\n"
          ],
          "name": "stdout"
        },
        {
          "output_type": "stream",
          "text": [
            "\r                                                                               \r\r 84% (21 of 25) |####################    | Elapsed Time: 0:02:19 ETA:   0:00:25"
          ],
          "name": "stderr"
        },
        {
          "output_type": "stream",
          "text": [
            " Acc: 0.66\t Loss: 0.1207\t Val_Acc: 0.28\t Val_Loss: 0.2421\n"
          ],
          "name": "stdout"
        },
        {
          "output_type": "stream",
          "text": [
            "\r                                                                               \r\r 88% (22 of 25) |#####################   | Elapsed Time: 0:02:26 ETA:   0:00:19"
          ],
          "name": "stderr"
        },
        {
          "output_type": "stream",
          "text": [
            " Acc: 0.65\t Loss: 0.1141\t Val_Acc: 0.26\t Val_Loss: 0.2321\n"
          ],
          "name": "stdout"
        },
        {
          "output_type": "stream",
          "text": [
            "\r                                                                               \r\r 92% (23 of 25) |######################  | Elapsed Time: 0:02:32 ETA:   0:00:13"
          ],
          "name": "stderr"
        },
        {
          "output_type": "stream",
          "text": [
            " Acc: 0.68\t Loss: 0.1118\t Val_Acc: 0.24\t Val_Loss: 0.2461\n"
          ],
          "name": "stdout"
        },
        {
          "output_type": "stream",
          "text": [
            "\r                                                                               \r\r 96% (24 of 25) |####################### | Elapsed Time: 0:02:39 ETA:   0:00:06"
          ],
          "name": "stderr"
        },
        {
          "output_type": "stream",
          "text": [
            " Acc: 0.72\t Loss: 0.0941\t Val_Acc: 0.24\t Val_Loss: 0.2445\n"
          ],
          "name": "stdout"
        },
        {
          "output_type": "stream",
          "text": [
            "\r                                                                               \r\r100% (25 of 25) |########################| Elapsed Time: 0:02:45 Time:  0:02:45\n"
          ],
          "name": "stderr"
        },
        {
          "output_type": "stream",
          "text": [
            " Acc: 0.7\t Loss: 0.1048\t Val_Acc: 0.24\t Val_Loss: 0.2555\n"
          ],
          "name": "stdout"
        }
      ]
    },
    {
      "cell_type": "code",
      "metadata": {
        "colab": {
          "base_uri": "https://localhost:8080/",
          "height": 698
        },
        "id": "rB2exD84_k6y",
        "outputId": "57726fad-82f4-470b-bb38-e777ac2792ed"
      },
      "source": [
        "test_X_r = []\n",
        "test_y_r = []\n",
        "for i in range(len(test_X)):\n",
        "    test_X_r.append(np.random.randint(0,2,128))\n",
        "    test_y_r.append(np.eye(diff_class)[np.random.randint(0,diff_class)])\n",
        "\n",
        "test_X_r = torch.tensor(test_X_r)\n",
        "test_y_r = torch.tensor(test_y_r)\n",
        "\n",
        "# randomly selecting \n",
        "random_test = np.random.randint(0,2)\n",
        "random_test = 1\n",
        "if (random_test):\n",
        "    X, y = test_X, test_y\n",
        "else:\n",
        "    X, y = test_X_r, test_y_r\n",
        "\n",
        "with torch.no_grad():\n",
        "    outputs = net(X.view(-1,128).to(device).float())\n",
        "    matches = [torch.argmax(i) == torch.argmax(j) for i,j in zip(outputs,y.to(device))]\n",
        "    val_acc = matches.count(True)/len(matches)\n",
        "    # val_acc, val_loss = fwd_pass(X.view(-1,64).to(device),y.to(device))\n",
        "\n",
        "if (acc-val_acc <= tol):\n",
        "    pred = 1\n",
        "else:\n",
        "    pred = 0\n",
        "\n",
        "#print(f'Round reduced PRESENT to {rounds} rounds...')\n",
        "print(f'Number of difference classes used: {diff_class}')\n",
        "#print(f'PRESENT CIPHER = 1 | RANDOM = 0')\n",
        "print(f'Used dataset: {random_test} | Predicted dataset: {pred}')\n",
        "print(f'Acc: {round(float(acc),4)} | Val_acc: {round(float(val_acc),4)}')\n",
        "if (pred == random_test):\n",
        "    print('Success!')\n",
        "else:\n",
        "    print('Failure!')\n",
        "\n",
        "print(f'\\n\\n\\n\\n')\n",
        "\n",
        "\n",
        "import matplotlib.pyplot as plt\n",
        "from matplotlib import style\n",
        "\n",
        "%matplotlib inline\n",
        "\n",
        "def create_acc_loss_graph(model_name):\n",
        "    contents = open(f\"GIFT_round=6_random_baski.log\",\"r\").read().split('\\n')\n",
        "    \n",
        "    epochs = []\n",
        "    accuracies = []\n",
        "    losses = []\n",
        "    \n",
        "    val_accs = []\n",
        "    val_losses = []\n",
        "    \n",
        "    for c in contents:\n",
        "        if model_name in c:\n",
        "            name, epoch, acc, loss, val_acc, val_loss = c.split(\",\")\n",
        "            \n",
        "            epochs.append(float(epoch))\n",
        "            accuracies.append(float(acc))\n",
        "            losses.append(float(loss))\n",
        "            \n",
        "            val_accs.append(float(val_acc))\n",
        "            val_losses.append(float(val_loss))\n",
        "            \n",
        "    fig = plt.figure()\n",
        "    \n",
        "    # ax1 = plt.subplot2grid((1,2), (0,0))\n",
        "    # ax2 = plt.subplot2grid((1,2), (0,1), sharex = ax1)\n",
        "    \n",
        "    plt.plot(epochs, accuracies, '-o', label = \"Training Accuracy\")\n",
        "    plt.plot(epochs, val_accs, '-^', label = \"Validation Accuracy\")\n",
        "    plt.ylabel('Accuracy', fontsize=12)\n",
        "    plt.xlabel('Epochs', fontsize=12)\n",
        "    plt.legend(loc=5, prop={'size': 12})\n",
        "    plt.grid()\n",
        "\n",
        "    plt.savefig(f'Acc3_r={6}_c={diff_class}.png', dpi=360)\n",
        "\n",
        "    fig = plt.figure()\n",
        "    \n",
        "    plt.plot(epochs, losses, '-o', label = \"Training Loss\")\n",
        "    plt.plot(epochs, val_losses, '-^', label = \"Validation Loss\")\n",
        "    plt.ylabel('Loss', fontsize=12)\n",
        "    plt.xlabel('Epochs', fontsize=12)\n",
        "    plt.legend(loc=5, prop={'size': 12})\n",
        "    plt.grid()\n",
        "\n",
        "    plt.savefig(f'Loss3_r={6}_c={diff_class}.png', dpi=360)\n",
        "    \n",
        "    plt.show()\n",
        "\n",
        "# model_name = \"PRESENT-1585941094\"\n",
        "model_name = MODEL_NAME\n",
        "\n",
        "create_acc_loss_graph(model_name)"
      ],
      "execution_count": 31,
      "outputs": [
        {
          "output_type": "stream",
          "text": [
            "Number of difference classes used: 4\n",
            "Used dataset: 1 | Predicted dataset: 1\n",
            "Acc: 0.24 | Val_acc: 0.2553\n",
            "Success!\n",
            "\n",
            "\n",
            "\n",
            "\n",
            "\n"
          ],
          "name": "stdout"
        },
        {
          "output_type": "display_data",
          "data": {
            "image/png": "[encoded data removed]",
            "text/plain": [
              "<Figure size 432x288 with 1 Axes>"
            ]
          },
          "metadata": {
            "tags": [],
            "needs_background": "light"
          }
        },
        {
          "output_type": "display_data",
          "data": {
            "image/png": "[encoded data removed]",
            "text/plain": [
              "<Figure size 432x288 with 1 Axes>"
            ]
          },
          "metadata": {
            "tags": [],
            "needs_background": "light"
          }
        }
      ]
    },
    {
      "cell_type": "markdown",
      "metadata": {
        "id": "nV0dHg0DbmEN"
      },
      "source": [
        "#**Model 4 --> Random + Our**#"
      ]
    },
    {
      "cell_type": "code",
      "metadata": {
        "id": "JWNTnNFIbyKp",
        "outputId": "f83101b4-b8f1-4a84-eef9-d8f7607cd7bf",
        "colab": {
          "base_uri": "https://localhost:8080/"
        }
      },
      "source": [
        "import torch\n",
        "import torch.nn as nn\n",
        "import torch.nn.functional as F\n",
        "import torch.optim as optim\n",
        "\n",
        "if torch.cuda.is_available():\n",
        "    device = torch.device(\"cuda:0\")\n",
        "    print(\"running on GPU\")\n",
        "else :\n",
        "    device = torch.device(\"cpu\")\n",
        "    print(\"running on CPU\")\n",
        "\n",
        "# NN class\n",
        "class Net(nn.Module):\n",
        "    def __init__(self):\n",
        "        super().__init__()\n",
        "        self.l1 = nn.Linear(128,128)\n",
        "        self.l2 = nn.Linear(128,1024)\n",
        "        \n",
        "        self.f1 = nn.Linear(1024,diff_class)\n",
        "    \n",
        "    def forward(self, x):\n",
        "        x = F.relu(self.l1(x))\n",
        "        x = F.relu(self.l2(x))\n",
        "        \n",
        "\n",
        "        x = self.f1(x)\n",
        "        \n",
        "        return F.softmax(x, dim=1)\n",
        "    \n",
        "net = Net().to(device)\n",
        "\n",
        "# NN parameters\n",
        "optimizer = optim.Adam(net.parameters(), lr = 0.001)\n",
        "loss_function = nn.MSELoss()\n",
        "\n",
        "# converting dataset to tensors\n",
        "X = torch.Tensor(ciphers1)\n",
        "y = torch.Tensor([np.eye(diff_class)[enc_class1[i]] for i in range(len(enc_class1))])\n",
        "\n",
        "VAL_PCT = 0.3\n",
        "val_size = int(len(X)*VAL_PCT)\n",
        "# print(val_size)\n",
        "\n",
        "train_X = X[:-val_size]\n",
        "train_y = y[:-val_size]\n",
        "\n",
        "test_X = X[-val_size:]\n",
        "test_y = y[-val_size:]\n",
        "\n",
        "# defining what to do in one iteration of data tensor throught the NN\n",
        "def fwd_pass(X, y, train=False):\n",
        "    if train:\n",
        "        net.zero_grad()\n",
        "    outputs = net(X)\n",
        "    matches = [torch.argmax(i) == torch.argmax(j) for i,j in zip(outputs,y)]\n",
        "    acc = matches.count(True)/len(matches)\n",
        "    loss = loss_function(outputs,y)\n",
        "    \n",
        "    if train:\n",
        "        loss.backward()\n",
        "        optimizer.step()\n",
        "    \n",
        "    return acc, loss\n",
        "\n",
        "\n",
        "MODEL_NAME = f\"GIFT_ML-Differential\"\n",
        "\n",
        "net = Net().to(device)\n",
        "optimizer = optim.Adam(net.parameters(), lr = 0.001)\n",
        "loss_function = nn.MSELoss()\n",
        "\n",
        "print(MODEL_NAME)\n",
        "\n",
        "def test(size=32):\n",
        "    \n",
        "    random_start = np.random.randint(len(test_X)-size)\n",
        "    X, y = test_X[random_start:random_start+size], test_y[random_start:random_start+size]\n",
        "    with torch.no_grad():\n",
        "        val_acc, val_loss = fwd_pass(X.view(-1,128).to(device),y.to(device))\n",
        "    return val_acc, val_loss\n",
        "\n",
        "# defining training method\n",
        "def train():\n",
        "    BATCH_SIZE = 200\n",
        "    EPOCHS = 25\n",
        "    with open(f\"GIFT_round=4_random_our.log\",\"w\") as f:\n",
        "        for epoch in progressbar.progressbar(range(EPOCHS)):\n",
        "            for i in range(0,len(train_X), BATCH_SIZE):\n",
        "\n",
        "                batch_X = train_X[i:i+BATCH_SIZE].view(-1,128).to(device)\n",
        "                batch_y = train_y[i:i+BATCH_SIZE].to(device)\n",
        "                \n",
        "                acc, loss = fwd_pass(batch_X, batch_y, train=True)\n",
        "            \n",
        "            if epoch%1 == 0:\n",
        "                # Validating model\n",
        "                random_start = np.random.randint(len(test_X)-BATCH_SIZE)\n",
        "                X, y = test_X[random_start:random_start+BATCH_SIZE], test_y[random_start:random_start+BATCH_SIZE]\n",
        "                with torch.no_grad():\n",
        "                    val_acc, val_loss = fwd_pass(X.view(-1,128).to(device),y.to(device))\n",
        "\n",
        "                # writing log file\n",
        "                f.write(f\"{MODEL_NAME},{epoch},{round(float(acc),2)},{round(float(loss),4)},{round(float(val_acc),2)},{round(float(val_loss),4)}\\n\")\n",
        "                \n",
        "                print(f\" Acc: {round(float(acc),2)}\\t Loss: {round(float(loss),4)}\\t Val_Acc: {round(float(val_acc),2)}\\t Val_Loss: {round(float(val_loss),4)}\")\n",
        "    \n",
        "    return val_acc\n",
        "\n",
        "acc = train()\n",
        "tol = 0.2/diff_class\n",
        "# checking for adequate accuracy"
      ],
      "execution_count": 30,
      "outputs": [
        {
          "output_type": "stream",
          "text": [
            "running on CPU\n"
          ],
          "name": "stdout"
        },
        {
          "output_type": "stream",
          "text": [
            "\r                                                                               \r\rN/A% (0 of 25) |                         | Elapsed Time: 0:00:00 ETA:  --:--:--"
          ],
          "name": "stderr"
        },
        {
          "output_type": "stream",
          "text": [
            "GIFT_ML-Differential\n"
          ],
          "name": "stdout"
        },
        {
          "output_type": "stream",
          "text": [
            "\r                                                                               \r\r  4% (1 of 25) |#                        | Elapsed Time: 0:00:01 ETA:   0:00:36"
          ],
          "name": "stderr"
        },
        {
          "output_type": "stream",
          "text": [
            " Acc: 0.29\t Loss: 0.1872\t Val_Acc: 0.28\t Val_Loss: 0.187\n"
          ],
          "name": "stdout"
        },
        {
          "output_type": "stream",
          "text": [
            "\r                                                                               \r\r  8% (2 of 25) |##                       | Elapsed Time: 0:00:03 ETA:   0:00:34"
          ],
          "name": "stderr"
        },
        {
          "output_type": "stream",
          "text": [
            " Acc: 0.27\t Loss: 0.187\t Val_Acc: 0.28\t Val_Loss: 0.1867\n"
          ],
          "name": "stdout"
        },
        {
          "output_type": "stream",
          "text": [
            "\r                                                                               \r\r 12% (3 of 25) |###                      | Elapsed Time: 0:00:04 ETA:   0:00:33"
          ],
          "name": "stderr"
        },
        {
          "output_type": "stream",
          "text": [
            " Acc: 0.3\t Loss: 0.1842\t Val_Acc: 0.26\t Val_Loss: 0.187\n"
          ],
          "name": "stdout"
        },
        {
          "output_type": "stream",
          "text": [
            "\r                                                                               \r\r 16% (4 of 25) |####                     | Elapsed Time: 0:00:06 ETA:   0:00:31"
          ],
          "name": "stderr"
        },
        {
          "output_type": "stream",
          "text": [
            " Acc: 0.38\t Loss: 0.1804\t Val_Acc: 0.33\t Val_Loss: 0.1874\n"
          ],
          "name": "stdout"
        },
        {
          "output_type": "stream",
          "text": [
            "\r                                                                               \r\r 20% (5 of 25) |#####                    | Elapsed Time: 0:00:07 ETA:   0:00:30"
          ],
          "name": "stderr"
        },
        {
          "output_type": "stream",
          "text": [
            " Acc: 0.41\t Loss: 0.1737\t Val_Acc: 0.33\t Val_Loss: 0.1855\n"
          ],
          "name": "stdout"
        },
        {
          "output_type": "stream",
          "text": [
            "\r                                                                               \r\r 24% (6 of 25) |######                   | Elapsed Time: 0:00:09 ETA:   0:00:28"
          ],
          "name": "stderr"
        },
        {
          "output_type": "stream",
          "text": [
            " Acc: 0.42\t Loss: 0.1686\t Val_Acc: 0.26\t Val_Loss: 0.1948\n"
          ],
          "name": "stdout"
        },
        {
          "output_type": "stream",
          "text": [
            "\r                                                                               \r\r 28% (7 of 25) |#######                  | Elapsed Time: 0:00:10 ETA:   0:00:27"
          ],
          "name": "stderr"
        },
        {
          "output_type": "stream",
          "text": [
            " Acc: 0.46\t Loss: 0.1645\t Val_Acc: 0.23\t Val_Loss: 0.1941\n"
          ],
          "name": "stdout"
        },
        {
          "output_type": "stream",
          "text": [
            "\r                                                                               \r\r 32% (8 of 25) |########                 | Elapsed Time: 0:00:11 ETA:   0:00:24"
          ],
          "name": "stderr"
        },
        {
          "output_type": "stream",
          "text": [
            " Acc: 0.46\t Loss: 0.1626\t Val_Acc: 0.28\t Val_Loss: 0.1945\n"
          ],
          "name": "stdout"
        },
        {
          "output_type": "stream",
          "text": [
            "\r                                                                               \r\r 36% (9 of 25) |#########                | Elapsed Time: 0:00:13 ETA:   0:00:22"
          ],
          "name": "stderr"
        },
        {
          "output_type": "stream",
          "text": [
            " Acc: 0.5\t Loss: 0.1623\t Val_Acc: 0.26\t Val_Loss: 0.2053\n"
          ],
          "name": "stdout"
        },
        {
          "output_type": "stream",
          "text": [
            "\r                                                                               \r\r 40% (10 of 25) |#########               | Elapsed Time: 0:00:14 ETA:   0:00:22"
          ],
          "name": "stderr"
        },
        {
          "output_type": "stream",
          "text": [
            " Acc: 0.51\t Loss: 0.161\t Val_Acc: 0.35\t Val_Loss: 0.1956\n"
          ],
          "name": "stdout"
        },
        {
          "output_type": "stream",
          "text": [
            "\r                                                                               \r\r 44% (11 of 25) |##########              | Elapsed Time: 0:00:16 ETA:   0:00:21"
          ],
          "name": "stderr"
        },
        {
          "output_type": "stream",
          "text": [
            " Acc: 0.58\t Loss: 0.1486\t Val_Acc: 0.29\t Val_Loss: 0.2037\n"
          ],
          "name": "stdout"
        },
        {
          "output_type": "stream",
          "text": [
            "\r                                                                               \r\r 48% (12 of 25) |###########             | Elapsed Time: 0:00:18 ETA:   0:00:19"
          ],
          "name": "stderr"
        },
        {
          "output_type": "stream",
          "text": [
            " Acc: 0.61\t Loss: 0.1428\t Val_Acc: 0.3\t Val_Loss: 0.2087\n"
          ],
          "name": "stdout"
        },
        {
          "output_type": "stream",
          "text": [
            "\r                                                                               \r\r 52% (13 of 25) |############            | Elapsed Time: 0:00:19 ETA:   0:00:18"
          ],
          "name": "stderr"
        },
        {
          "output_type": "stream",
          "text": [
            " Acc: 0.63\t Loss: 0.1385\t Val_Acc: 0.27\t Val_Loss: 0.2163\n"
          ],
          "name": "stdout"
        },
        {
          "output_type": "stream",
          "text": [
            "\r                                                                               \r\r 56% (14 of 25) |#############           | Elapsed Time: 0:00:21 ETA:   0:00:16"
          ],
          "name": "stderr"
        },
        {
          "output_type": "stream",
          "text": [
            " Acc: 0.64\t Loss: 0.1307\t Val_Acc: 0.31\t Val_Loss: 0.2075\n"
          ],
          "name": "stdout"
        },
        {
          "output_type": "stream",
          "text": [
            "\r                                                                               \r\r 60% (15 of 25) |##############          | Elapsed Time: 0:00:22 ETA:   0:00:15"
          ],
          "name": "stderr"
        },
        {
          "output_type": "stream",
          "text": [
            " Acc: 0.63\t Loss: 0.1294\t Val_Acc: 0.26\t Val_Loss: 0.2155\n"
          ],
          "name": "stdout"
        },
        {
          "output_type": "stream",
          "text": [
            "\r                                                                               \r\r 64% (16 of 25) |###############         | Elapsed Time: 0:00:24 ETA:   0:00:13"
          ],
          "name": "stderr"
        },
        {
          "output_type": "stream",
          "text": [
            " Acc: 0.64\t Loss: 0.1294\t Val_Acc: 0.27\t Val_Loss: 0.23\n"
          ],
          "name": "stdout"
        },
        {
          "output_type": "stream",
          "text": [
            "\r                                                                               \r\r 68% (17 of 25) |################        | Elapsed Time: 0:00:25 ETA:   0:00:12"
          ],
          "name": "stderr"
        },
        {
          "output_type": "stream",
          "text": [
            " Acc: 0.67\t Loss: 0.119\t Val_Acc: 0.32\t Val_Loss: 0.2148\n"
          ],
          "name": "stdout"
        },
        {
          "output_type": "stream",
          "text": [
            "\r                                                                               \r\r 72% (18 of 25) |#################       | Elapsed Time: 0:00:27 ETA:   0:00:10"
          ],
          "name": "stderr"
        },
        {
          "output_type": "stream",
          "text": [
            " Acc: 0.67\t Loss: 0.1163\t Val_Acc: 0.3\t Val_Loss: 0.2235\n"
          ],
          "name": "stdout"
        },
        {
          "output_type": "stream",
          "text": [
            "\r                                                                               \r\r 76% (19 of 25) |##################      | Elapsed Time: 0:00:28 ETA:   0:00:09"
          ],
          "name": "stderr"
        },
        {
          "output_type": "stream",
          "text": [
            " Acc: 0.61\t Loss: 0.1249\t Val_Acc: 0.28\t Val_Loss: 0.2365\n"
          ],
          "name": "stdout"
        },
        {
          "output_type": "stream",
          "text": [
            "\r                                                                               \r\r 80% (20 of 25) |###################     | Elapsed Time: 0:00:30 ETA:   0:00:07"
          ],
          "name": "stderr"
        },
        {
          "output_type": "stream",
          "text": [
            " Acc: 0.68\t Loss: 0.1106\t Val_Acc: 0.3\t Val_Loss: 0.2307\n"
          ],
          "name": "stdout"
        },
        {
          "output_type": "stream",
          "text": [
            "\r                                                                               \r\r 84% (21 of 25) |####################    | Elapsed Time: 0:00:31 ETA:   0:00:06"
          ],
          "name": "stderr"
        },
        {
          "output_type": "stream",
          "text": [
            " Acc: 0.74\t Loss: 0.1006\t Val_Acc: 0.24\t Val_Loss: 0.2503\n"
          ],
          "name": "stdout"
        },
        {
          "output_type": "stream",
          "text": [
            "\r                                                                               \r\r 88% (22 of 25) |#####################   | Elapsed Time: 0:00:33 ETA:   0:00:04"
          ],
          "name": "stderr"
        },
        {
          "output_type": "stream",
          "text": [
            " Acc: 0.78\t Loss: 0.0948\t Val_Acc: 0.31\t Val_Loss: 0.2267\n"
          ],
          "name": "stdout"
        },
        {
          "output_type": "stream",
          "text": [
            "\r                                                                               \r\r 92% (23 of 25) |######################  | Elapsed Time: 0:00:34 ETA:   0:00:03"
          ],
          "name": "stderr"
        },
        {
          "output_type": "stream",
          "text": [
            " Acc: 0.74\t Loss: 0.0976\t Val_Acc: 0.33\t Val_Loss: 0.2295\n"
          ],
          "name": "stdout"
        },
        {
          "output_type": "stream",
          "text": [
            "\r                                                                               \r\r 96% (24 of 25) |####################### | Elapsed Time: 0:00:36 ETA:   0:00:01"
          ],
          "name": "stderr"
        },
        {
          "output_type": "stream",
          "text": [
            " Acc: 0.72\t Loss: 0.102\t Val_Acc: 0.3\t Val_Loss: 0.228\n"
          ],
          "name": "stdout"
        },
        {
          "output_type": "stream",
          "text": [
            "\r                                                                               \r\r100% (25 of 25) |########################| Elapsed Time: 0:00:38 Time:  0:00:38\n"
          ],
          "name": "stderr"
        },
        {
          "output_type": "stream",
          "text": [
            " Acc: 0.81\t Loss: 0.0882\t Val_Acc: 0.28\t Val_Loss: 0.2394\n"
          ],
          "name": "stdout"
        }
      ]
    },
    {
      "cell_type": "code",
      "metadata": {
        "id": "TJEwwCTNb5Yy",
        "outputId": "baf04dcb-2582-4bc0-9b00-d0d4c2e6760b",
        "colab": {
          "base_uri": "https://localhost:8080/",
          "height": 698
        }
      },
      "source": [
        "test_X_r = []\n",
        "test_y_r = []\n",
        "for i in range(len(test_X)):\n",
        "    test_X_r.append(np.random.randint(0,2,128))\n",
        "    test_y_r.append(np.eye(diff_class)[np.random.randint(0,diff_class)])\n",
        "\n",
        "test_X_r = torch.tensor(test_X_r)\n",
        "test_y_r = torch.tensor(test_y_r)\n",
        "\n",
        "# randomly selecting \n",
        "random_test = np.random.randint(0,2)\n",
        "random_test = 1\n",
        "if (random_test):\n",
        "    X, y = test_X, test_y\n",
        "else:\n",
        "    X, y = test_X_r, test_y_r\n",
        "\n",
        "with torch.no_grad():\n",
        "    outputs = net(X.view(-1,128).to(device).float())\n",
        "    matches = [torch.argmax(i) == torch.argmax(j) for i,j in zip(outputs,y.to(device))]\n",
        "    val_acc = matches.count(True)/len(matches)\n",
        "    # val_acc, val_loss = fwd_pass(X.view(-1,64).to(device),y.to(device))\n",
        "\n",
        "if (acc-val_acc <= tol):\n",
        "    pred = 1\n",
        "else:\n",
        "    pred = 0\n",
        "\n",
        "#print(f'Round reduced PRESENT to {rounds} rounds...')\n",
        "print(f'Number of difference classes used: {diff_class}')\n",
        "#print(f'PRESENT CIPHER = 1 | RANDOM = 0')\n",
        "print(f'Used dataset: {random_test} | Predicted dataset: {pred}')\n",
        "print(f'Acc: {round(float(acc),4)} | Val_acc: {round(float(val_acc),4)}')\n",
        "if (pred == random_test):\n",
        "    print('Success!')\n",
        "else:\n",
        "    print('Failure!')\n",
        "\n",
        "print(f'\\n\\n\\n\\n')\n",
        "\n",
        "\n",
        "import matplotlib.pyplot as plt\n",
        "from matplotlib import style\n",
        "\n",
        "%matplotlib inline\n",
        "\n",
        "def create_acc_loss_graph(model_name):\n",
        "    contents = open(f\"GIFT_round=4_random_our.log\",\"r\").read().split('\\n')\n",
        "    \n",
        "    epochs = []\n",
        "    accuracies = []\n",
        "    losses = []\n",
        "    \n",
        "    val_accs = []\n",
        "    val_losses = []\n",
        "    \n",
        "    for c in contents:\n",
        "        if model_name in c:\n",
        "            name, epoch, acc, loss, val_acc, val_loss = c.split(\",\")\n",
        "            \n",
        "            epochs.append(float(epoch))\n",
        "            accuracies.append(float(acc))\n",
        "            losses.append(float(loss))\n",
        "            \n",
        "            val_accs.append(float(val_acc))\n",
        "            val_losses.append(float(val_loss))\n",
        "            \n",
        "    fig = plt.figure()\n",
        "    \n",
        "    # ax1 = plt.subplot2grid((1,2), (0,0))\n",
        "    # ax2 = plt.subplot2grid((1,2), (0,1), sharex = ax1)\n",
        "    \n",
        "    plt.plot(epochs, accuracies, '-o', label = \"Training Accuracy\")\n",
        "    plt.plot(epochs, val_accs, '-^', label = \"Validation Accuracy\")\n",
        "    plt.ylabel('Accuracy', fontsize=12)\n",
        "    plt.xlabel('Epochs', fontsize=12)\n",
        "    plt.legend(loc=5, prop={'size': 12})\n",
        "    plt.grid()\n",
        "\n",
        "    plt.savefig(f'Acc4_r={4}_c={diff_class}.png', dpi=360)\n",
        "\n",
        "    fig = plt.figure()\n",
        "    \n",
        "    plt.plot(epochs, losses, '-o', label = \"Training Loss\")\n",
        "    plt.plot(epochs, val_losses, '-^', label = \"Validation Loss\")\n",
        "    plt.ylabel('Loss', fontsize=12)\n",
        "    plt.xlabel('Epochs', fontsize=12)\n",
        "    plt.legend(loc=5, prop={'size': 12})\n",
        "    plt.grid()\n",
        "\n",
        "    plt.savefig(f'Loss4_r={4}_c={diff_class}.png', dpi=360)\n",
        "    \n",
        "    plt.show()\n",
        "\n",
        "# model_name = \"PRESENT-1585941094\"\n",
        "model_name = MODEL_NAME\n",
        "\n",
        "create_acc_loss_graph(model_name)"
      ],
      "execution_count": 31,
      "outputs": [
        {
          "output_type": "stream",
          "text": [
            "Number of difference classes used: 4\n",
            "Used dataset: 1 | Predicted dataset: 1\n",
            "Acc: 0.28 | Val_acc: 0.2948\n",
            "Success!\n",
            "\n",
            "\n",
            "\n",
            "\n",
            "\n"
          ],
          "name": "stdout"
        },
        {
          "output_type": "display_data",
          "data": {
            "image/png": "[encoded data removed]",
            "text/plain": [
              "<Figure size 432x288 with 1 Axes>"
            ]
          },
          "metadata": {
            "tags": [],
            "needs_background": "light"
          }
        },
        {
          "output_type": "display_data",
          "data": {
            "image/png": "[encoded data removed]",
            "text/plain": [
              "<Figure size 432x288 with 1 Axes>"
            ]
          },
          "metadata": {
            "tags": [],
            "needs_background": "light"
          }
        }
      ]
    },
    {
      "cell_type": "markdown",
      "metadata": {
        "id": "ztVoG5J__xUb"
      },
      "source": [
        "#**Comapring the models**#"
      ]
    },
    {
      "cell_type": "code",
      "metadata": {
        "id": "IHJ7KhZ4AALY",
        "outputId": "1ab4c05f-c6ad-4313-ff23-c512b84b6f85",
        "colab": {
          "base_uri": "https://localhost:8080/",
          "height": 907
        }
      },
      "source": [
        "import os\n",
        "import matplotlib.pyplot as plt\n",
        "from matplotlib import style\n",
        "import numpy as np\n",
        "from progressbar import progressbar\n",
        "\n",
        "%matplotlib inline\n",
        "\n",
        "def get_data(model_name, rounds, graph):\n",
        "    contents_wang = open(f\"/content/GIFT_round={rounds}_wang_baski.log\",\"r\").read().split('\\n')\n",
        "    contents_random = open(f\"/content/GIFT_round={rounds}_random_baski.log\",\"r\").read().split('\\n')\n",
        "    contents_wang_our = open(f\"/content/GIFT_round={rounds}_wang_our.log\",\"r\").read().split('\\n')\n",
        "    contents_random_our = open(f\"/content/GIFT_round={rounds}_random_our.log\",\"r\").read().split('\\n')\n",
        "   \n",
        "    epochs = []\n",
        "    \n",
        "    val_accs_wang = []\n",
        "    val_accs_random = []\n",
        "    val_accs_wang_our = []\n",
        "    val_accs_random_our = []\n",
        "    \n",
        "    for c in range(len(contents_wang)-1):\n",
        "        name, epoch, acc, loss, val_acc, val_loss = contents_wang[c].split(\",\")\n",
        "            \n",
        "        epochs.append(float(epoch))\n",
        "        val_accs_wang.append(float(val_acc))\n",
        "\n",
        "    for c in range(len(contents_random)-1):\n",
        "        name, epoch, acc, loss, val_acc, val_loss = contents_random[c].split(\",\")\n",
        "            \n",
        "        val_accs_random.append(float(val_acc))\n",
        "\n",
        "    for c in range(len(contents_wang_our)-1):\n",
        "        name, epoch, acc, loss, val_acc, val_loss = contents_wang_our[c].split(\",\")\n",
        "\n",
        "        val_accs_wang_our.append(float(val_acc))\n",
        "\n",
        "    for c in range(len(contents_random_our)-1):\n",
        "        name, epoch, acc, loss, val_acc, val_loss = contents_random_our[c].split(\",\")\n",
        "            \n",
        "        val_accs_random_our.append(float(val_acc))\n",
        "\n",
        "    if (graph == 'max'):\n",
        "        return max(val_accs_wang), max(val_accs_random), max(val_accs_wang_our), max(val_accs_random_our)\n",
        "    if (graph == 'min'):\n",
        "        return min(val_accs_wang), min(val_accs_random), min(val_accs_wang_our), min(val_accs_random_our)\n",
        "    if (graph == 'avg'):\n",
        "        return round(sum(val_accs_wang)/len(epochs),2), round(sum(val_accs_random)/len(epochs),2), round(sum(val_accs_wang_our)/len(epochs),2), round(sum(val_accs_random_our)/len(epochs),2)\n",
        "\n",
        "def create_comp_graph(graph):\n",
        "\n",
        "    val_accs_wang = []\n",
        "    val_accs_random = []\n",
        "    val_accs_wang_our = []\n",
        "    val_accs_random_our = []\n",
        "    # present_rounds = range(3,7)\n",
        "    rounds = range(2,7)\n",
        "\n",
        "    model_name = \"GIFT_ML-Differential\"\n",
        "    # model_name = MODEL_NAME\n",
        "    diff_class = 4\n",
        "    for round in progressbar(rounds):\n",
        "        v_w, v_r, v_w_o, v_r_o = get_data(model_name, round,graph)\n",
        "        val_accs_wang.append(v_w)\n",
        "        val_accs_random.append(v_r)\n",
        "        val_accs_wang_our.append(v_w_o)\n",
        "        val_accs_random_our.append(v_r_o)\n",
        "\n",
        "    x = np.arange(len(rounds))  # the label locations\n",
        "    width = 0.2  # the width of the bars\n",
        "\n",
        "    # fig, ax = plt.subplots(figsize=(9, 4.5))\n",
        "    fig, ax = plt.subplots()\n",
        "    rects1 = ax.bar(x - 3*width/2, val_accs_random, width, label=\"Model 1\", color='#f4c20d')\n",
        "    rects2 = ax.bar(x - width/2, val_accs_random_our, width, label=\"Model 2\", color='#3cba54')\n",
        "    rects3 = ax.bar(x + width/2, val_accs_wang, width, label=\"Model 3\", color='#4885ed')\n",
        "    rects4 = ax.bar(x + 3*width/2, val_accs_wang_our, width, label=\"Model 4\", color='#db3236')\n",
        "\n",
        "    # Add some text for labels, title and custom x-axis tick labels, etc.\n",
        "    ax.set_ylabel('Validation accuracy')\n",
        "    ax.set_xlabel('Encryption rounds')\n",
        "    ax.set_xticks(x)\n",
        "    ax.set_xticklabels(rounds)\n",
        "    ax.legend()\n",
        "    # ax.legend(bbox_to_anchor=(0.6, 1.0), loc='upper left', prop={'size':12})\n",
        "\n",
        "\n",
        "\n",
        "    def autolabel(rects):\n",
        "        \"\"\"Attach a text label above each bar in *rects*, displaying its height.\"\"\"\n",
        "        for rect in rects:\n",
        "            height = rect.get_height()\n",
        "            ax.annotate('{}'.format(height),\n",
        "                        xy=(rect.get_x() + rect.get_width() / 2, height),\n",
        "                        xytext=(0, 3),  # 3 points vertical offset\n",
        "                        textcoords=\"offset points\",\n",
        "                        ha='center', va='bottom', fontsize=6)\n",
        "\n",
        "\n",
        "    autolabel(rects1)\n",
        "    autolabel(rects2)\n",
        "    autolabel(rects3)\n",
        "    autolabel(rects4)\n",
        "\n",
        "    fig.tight_layout()\n",
        "    plt.grid(linewidth=0.1)\n",
        "\n",
        "    plt.savefig(f'Bar_graph_gift_{graph}.png', dpi=360)\n",
        "    plt.show()\n",
        "\n",
        "create_comp_graph('max')\n",
        "create_comp_graph('min')\n",
        "create_comp_graph('avg')"
      ],
      "execution_count": 9,
      "outputs": [
        {
          "output_type": "stream",
          "text": [
            "100% (5 of 5) |##########################| Elapsed Time: 0:00:00 Time:  0:00:00\n"
          ],
          "name": "stderr"
        },
        {
          "output_type": "display_data",
          "data": {
            "image/png": "[encoded data removed]",
            "text/plain": [
              "<Figure size 432x288 with 1 Axes>"
            ]
          },
          "metadata": {
            "tags": [],
            "needs_background": "light"
          }
        },
        {
          "output_type": "stream",
          "text": [
            "100% (5 of 5) |##########################| Elapsed Time: 0:00:00 Time:  0:00:00\n"
          ],
          "name": "stderr"
        },
        {
          "output_type": "display_data",
          "data": {
            "image/png": "[encoded data removed]",
            "text/plain": [
              "<Figure size 432x288 with 1 Axes>"
            ]
          },
          "metadata": {
            "tags": [],
            "needs_background": "light"
          }
        },
        {
          "output_type": "stream",
          "text": [
            "100% (5 of 5) |##########################| Elapsed Time: 0:00:00 Time:  0:00:00\n"
          ],
          "name": "stderr"
        },
        {
          "output_type": "display_data",
          "data": {
            "image/png": "[encoded data removed]",
            "text/plain": [
              "<Figure size 432x288 with 1 Axes>"
            ]
          },
          "metadata": {
            "tags": [],
            "needs_background": "light"
          }
        }
      ]
    },
    {
      "cell_type": "code",
      "metadata": {
        "id": "Hb5Nk987dLiK",
        "outputId": "ca986edb-3801-4775-a21e-43e12727f5bc",
        "colab": {
          "base_uri": "https://localhost:8080/",
          "height": 282
        }
      },
      "source": [
        "def create_comp_graph(model_name):\n",
        "    contents_wang = open(f\"GIFT_round={3}_wang_our.log\",\"r\").read().split('\\n')\n",
        "    contents_random = open(f\"GIFT_round={3}_random_our.log\",\"r\").read().split('\\n')\n",
        "    \n",
        "    epochs = []\n",
        "    \n",
        "    val_accs_wang = []\n",
        "    val_accs_random = []\n",
        "    \n",
        "    for c in range(len(contents_wang)-1):\n",
        "        name, epoch, acc, loss, val_acc, val_loss = contents_wang[c].split(\",\")\n",
        "            \n",
        "        epochs.append(float(epoch))\n",
        "        val_accs_wang.append(float(val_acc))\n",
        "\n",
        "    for c in range(len(contents_random)-1):\n",
        "        name, epoch, acc, loss, val_acc, val_loss = contents_random[c].split(\",\")\n",
        "            \n",
        "        val_accs_random.append(float(val_acc))\n",
        "            \n",
        "    fig = plt.figure()\n",
        "    \n",
        "    # ax1 = plt.subplot2grid((1,2), (0,0))\n",
        "    # ax2 = plt.subplot2grid((1,2), (0,1), sharex = ax1)\n",
        "    \n",
        "    plt.plot(epochs, val_accs_wang, '-o', label = \"Using Wang's differentials\")\n",
        "    plt.plot(epochs, val_accs_random, '-^', label = \"Using random differentials\")\n",
        "    plt.ylabel('Validation Accuracy', fontsize=12)\n",
        "    plt.xlabel('Epochs', fontsize=12)\n",
        "    plt.legend(loc=5, prop={'size': 12})\n",
        "    plt.grid()\n",
        "\n",
        "    plt.savefig(f'Comp_graph_Acc_our_r={3}_c={4}.png', dpi=360)\n",
        "\n",
        "    plt.show()\n",
        "\n",
        "# model_name = \"PRESENT-1585941094\"\n",
        "model_name = \"GIFT_ML-Differential\"\n",
        "\n",
        "create_comp_graph(model_name)"
      ],
      "execution_count": 24,
      "outputs": [
        {
          "output_type": "display_data",
          "data": {
            "image/png": "[encoded data removed]",
            "text/plain": [
              "<Figure size 432x288 with 1 Axes>"
            ]
          },
          "metadata": {
            "tags": [],
            "needs_background": "light"
          }
        }
      ]
    }
  ]
}